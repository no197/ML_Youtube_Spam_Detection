{
  "nbformat": 4,
  "nbformat_minor": 0,
  "metadata": {
    "colab": {
      "name": "Youtube_Spam_Detection.ipynb",
      "provenance": [],
      "collapsed_sections": [],
      "include_colab_link": true
    },
    "kernelspec": {
      "name": "python3",
      "display_name": "Python 3"
    },
    "accelerator": "GPU"
  },
  "cells": [
    {
      "cell_type": "markdown",
      "metadata": {
        "id": "view-in-github",
        "colab_type": "text"
      },
      "source": [
        "<a href=\"https://colab.research.google.com/github/no197/ML_Youtube_Spam_Detection/blob/master/Youtube_Spam_Detection.ipynb\" target=\"_parent\"><img src=\"https://colab.research.google.com/assets/colab-badge.svg\" alt=\"Open In Colab\"/></a>"
      ]
    },
    {
      "cell_type": "markdown",
      "metadata": {
        "id": "gPUAEN5SUkxw",
        "colab_type": "text"
      },
      "source": [
        "# ***Preprocessing***"
      ]
    },
    {
      "cell_type": "markdown",
      "metadata": {
        "id": "JZ96xPtVUs6_",
        "colab_type": "text"
      },
      "source": [
        "**download & extract dataset**"
      ]
    },
    {
      "cell_type": "code",
      "metadata": {
        "id": "TIPfOZWHUy6F",
        "colab_type": "code",
        "outputId": "6d691ab3-e932-406f-c469-45c8fd056324",
        "colab": {
          "base_uri": "https://localhost:8080/",
          "height": 408
        }
      },
      "source": [
        "!wget -O data.zip https://archive.ics.uci.edu/ml/machine-learning-databases/00380/YouTube-Spam-Collection-v1.zip\n",
        "!unzip data.zip"
      ],
      "execution_count": 1,
      "outputs": [
        {
          "output_type": "stream",
          "text": [
            "--2020-05-28 02:15:48--  https://archive.ics.uci.edu/ml/machine-learning-databases/00380/YouTube-Spam-Collection-v1.zip\n",
            "Resolving archive.ics.uci.edu (archive.ics.uci.edu)... 128.195.10.252\n",
            "Connecting to archive.ics.uci.edu (archive.ics.uci.edu)|128.195.10.252|:443... connected.\n",
            "HTTP request sent, awaiting response... 200 OK\n",
            "Length: 163567 (160K) [application/x-httpd-php]\n",
            "Saving to: ‘data.zip’\n",
            "\n",
            "\rdata.zip              0%[                    ]       0  --.-KB/s               \rdata.zip             24%[===>                ]  39.00K   141KB/s               \rdata.zip             92%[=================>  ] 148.00K   270KB/s               \rdata.zip            100%[===================>] 159.73K   292KB/s    in 0.5s    \n",
            "\n",
            "2020-05-28 02:15:49 (292 KB/s) - ‘data.zip’ saved [163567/163567]\n",
            "\n",
            "Archive:  data.zip\n",
            "  inflating: Youtube01-Psy.csv       \n",
            "   creating: __MACOSX/\n",
            "  inflating: __MACOSX/._Youtube01-Psy.csv  \n",
            "  inflating: Youtube02-KatyPerry.csv  \n",
            "  inflating: __MACOSX/._Youtube02-KatyPerry.csv  \n",
            "  inflating: Youtube03-LMFAO.csv     \n",
            "  inflating: __MACOSX/._Youtube03-LMFAO.csv  \n",
            "  inflating: Youtube04-Eminem.csv    \n",
            "  inflating: __MACOSX/._Youtube04-Eminem.csv  \n",
            "  inflating: Youtube05-Shakira.csv   \n",
            "  inflating: __MACOSX/._Youtube05-Shakira.csv  \n"
          ],
          "name": "stdout"
        }
      ]
    },
    {
      "cell_type": "markdown",
      "metadata": {
        "id": "dXdJg9NeU0P5",
        "colab_type": "text"
      },
      "source": [
        "**import lib**"
      ]
    },
    {
      "cell_type": "code",
      "metadata": {
        "id": "m4potPEzU6Ix",
        "colab_type": "code",
        "outputId": "8780c4a6-1eff-4996-be12-ad3fb03b0270",
        "colab": {
          "base_uri": "https://localhost:8080/",
          "height": 258
        }
      },
      "source": [
        "import pandas as pd\n",
        "import glob\n",
        "import seaborn as sns\n",
        "import string\n",
        "from string import digits, punctuation\n",
        "import re\n",
        "from nltk.corpus import wordnet\n",
        "from nltk.stem import WordNetLemmatizer\n",
        "from keras.preprocessing.text import Tokenizer\n",
        "from keras.preprocessing import sequence\n",
        "from keras.preprocessing.sequence import pad_sequences\n",
        "import numpy as np\n",
        "from keras.layers import LSTM, Activation, Dense, Dropout, Input, Embedding\n",
        "from keras.optimizers import RMSprop\n",
        "from keras.models import Sequential\n",
        "from keras.layers import Dense, Embedding, LSTM, SpatialDropout1D\n",
        "from sklearn.model_selection import train_test_split\n",
        "import matplotlib.pyplot as plt\n",
        "from mlxtend.plotting import plot_confusion_matrix\n",
        "from sklearn.feature_extraction.text import TfidfVectorizer\n",
        "from sklearn import model_selection, naive_bayes, svm\n",
        "from sklearn.metrics import accuracy_score\n",
        "from sklearn.metrics import classification_report,confusion_matrix\n",
        "# from sklearn.externals import joblib\n",
        "import joblib\n",
        "import nltk\n",
        "nltk.download('averaged_perceptron_tagger')\n",
        "nltk.download('wordnet')\n",
        "nltk.download('punkt')\n",
        "nltk.download('stopwords')\n"
      ],
      "execution_count": 2,
      "outputs": [
        {
          "output_type": "stream",
          "text": [
            "/usr/local/lib/python3.6/dist-packages/statsmodels/tools/_testing.py:19: FutureWarning: pandas.util.testing is deprecated. Use the functions in the public API at pandas.testing instead.\n",
            "  import pandas.util.testing as tm\n",
            "Using TensorFlow backend.\n"
          ],
          "name": "stderr"
        },
        {
          "output_type": "stream",
          "text": [
            "[nltk_data] Downloading package averaged_perceptron_tagger to\n",
            "[nltk_data]     /root/nltk_data...\n",
            "[nltk_data]   Unzipping taggers/averaged_perceptron_tagger.zip.\n",
            "[nltk_data] Downloading package wordnet to /root/nltk_data...\n",
            "[nltk_data]   Unzipping corpora/wordnet.zip.\n",
            "[nltk_data] Downloading package punkt to /root/nltk_data...\n",
            "[nltk_data]   Unzipping tokenizers/punkt.zip.\n",
            "[nltk_data] Downloading package stopwords to /root/nltk_data...\n",
            "[nltk_data]   Unzipping corpora/stopwords.zip.\n"
          ],
          "name": "stdout"
        },
        {
          "output_type": "execute_result",
          "data": {
            "text/plain": [
              "True"
            ]
          },
          "metadata": {
            "tags": []
          },
          "execution_count": 2
        }
      ]
    },
    {
      "cell_type": "markdown",
      "metadata": {
        "id": "tU0qnztsVFQ8",
        "colab_type": "text"
      },
      "source": [
        "**Import data into Pandas**"
      ]
    },
    {
      "cell_type": "code",
      "metadata": {
        "id": "bWur2VrQVQq-",
        "colab_type": "code",
        "colab": {
          "base_uri": "https://localhost:8080/",
          "height": 306
        },
        "outputId": "7095e8aa-ab95-4b83-e00a-06ed1890ebf7"
      },
      "source": [
        "path = '/content' \n",
        "all_files = glob.glob(path + \"/*.csv\")\n",
        "\n",
        "li = []\n",
        "\n",
        "for filename in all_files:\n",
        "    data_frame = pd.read_csv(filename, index_col=None, header=0, encoding='utf-8')\n",
        "    li.append(data_frame)\n",
        "\n",
        "df = pd.concat(li, axis=0, ignore_index=True)\n",
        "print(df.shape)\n",
        "df.head(5)\n"
      ],
      "execution_count": 3,
      "outputs": [
        {
          "output_type": "stream",
          "text": [
            "(1956, 5)\n"
          ],
          "name": "stdout"
        },
        {
          "output_type": "execute_result",
          "data": {
            "text/html": [
              "<div>\n",
              "<style scoped>\n",
              "    .dataframe tbody tr th:only-of-type {\n",
              "        vertical-align: middle;\n",
              "    }\n",
              "\n",
              "    .dataframe tbody tr th {\n",
              "        vertical-align: top;\n",
              "    }\n",
              "\n",
              "    .dataframe thead th {\n",
              "        text-align: right;\n",
              "    }\n",
              "</style>\n",
              "<table border=\"1\" class=\"dataframe\">\n",
              "  <thead>\n",
              "    <tr style=\"text-align: right;\">\n",
              "      <th></th>\n",
              "      <th>COMMENT_ID</th>\n",
              "      <th>AUTHOR</th>\n",
              "      <th>DATE</th>\n",
              "      <th>CONTENT</th>\n",
              "      <th>CLASS</th>\n",
              "    </tr>\n",
              "  </thead>\n",
              "  <tbody>\n",
              "    <tr>\n",
              "      <th>0</th>\n",
              "      <td>LZQPQhLyRh80UYxNuaDWhIGQYNQ96IuCg-AYWqNPjpU</td>\n",
              "      <td>Julius NM</td>\n",
              "      <td>2013-11-07T06:20:48</td>\n",
              "      <td>Huh, anyway check out this you[tube] channel: ...</td>\n",
              "      <td>1</td>\n",
              "    </tr>\n",
              "    <tr>\n",
              "      <th>1</th>\n",
              "      <td>LZQPQhLyRh_C2cTtd9MvFRJedxydaVW-2sNg5Diuo4A</td>\n",
              "      <td>adam riyati</td>\n",
              "      <td>2013-11-07T12:37:15</td>\n",
              "      <td>Hey guys check out my new channel and our firs...</td>\n",
              "      <td>1</td>\n",
              "    </tr>\n",
              "    <tr>\n",
              "      <th>2</th>\n",
              "      <td>LZQPQhLyRh9MSZYnf8djyk0gEF9BHDPYrrK-qCczIY8</td>\n",
              "      <td>Evgeny Murashkin</td>\n",
              "      <td>2013-11-08T17:34:21</td>\n",
              "      <td>just for test I have to say murdev.com</td>\n",
              "      <td>1</td>\n",
              "    </tr>\n",
              "    <tr>\n",
              "      <th>3</th>\n",
              "      <td>z13jhp0bxqncu512g22wvzkasxmvvzjaz04</td>\n",
              "      <td>ElNino Melendez</td>\n",
              "      <td>2013-11-09T08:28:43</td>\n",
              "      <td>me shaking my sexy ass on my channel enjoy ^_^ ﻿</td>\n",
              "      <td>1</td>\n",
              "    </tr>\n",
              "    <tr>\n",
              "      <th>4</th>\n",
              "      <td>z13fwbwp1oujthgqj04chlngpvzmtt3r3dw</td>\n",
              "      <td>GsMega</td>\n",
              "      <td>2013-11-10T16:05:38</td>\n",
              "      <td>watch?v=vtaRGgvGtWQ   Check this out .﻿</td>\n",
              "      <td>1</td>\n",
              "    </tr>\n",
              "  </tbody>\n",
              "</table>\n",
              "</div>"
            ],
            "text/plain": [
              "                                    COMMENT_ID  ... CLASS\n",
              "0  LZQPQhLyRh80UYxNuaDWhIGQYNQ96IuCg-AYWqNPjpU  ...     1\n",
              "1  LZQPQhLyRh_C2cTtd9MvFRJedxydaVW-2sNg5Diuo4A  ...     1\n",
              "2  LZQPQhLyRh9MSZYnf8djyk0gEF9BHDPYrrK-qCczIY8  ...     1\n",
              "3          z13jhp0bxqncu512g22wvzkasxmvvzjaz04  ...     1\n",
              "4          z13fwbwp1oujthgqj04chlngpvzmtt3r3dw  ...     1\n",
              "\n",
              "[5 rows x 5 columns]"
            ]
          },
          "metadata": {
            "tags": []
          },
          "execution_count": 3
        }
      ]
    },
    {
      "cell_type": "markdown",
      "metadata": {
        "id": "-cPRMlAdv7zL",
        "colab_type": "text"
      },
      "source": [
        "**DATA VISUALIZATION**"
      ]
    },
    {
      "cell_type": "code",
      "metadata": {
        "id": "ynV5HOxpv64-",
        "colab_type": "code",
        "outputId": "fbe0b234-455c-4af6-bf31-1befe427d1a9",
        "colab": {
          "base_uri": "https://localhost:8080/",
          "height": 296
        }
      },
      "source": [
        "sns.set_style(\"dark\")\n",
        "sns.countplot(df.CLASS)"
      ],
      "execution_count": 4,
      "outputs": [
        {
          "output_type": "execute_result",
          "data": {
            "text/plain": [
              "<matplotlib.axes._subplots.AxesSubplot at 0x7f6a471486d8>"
            ]
          },
          "metadata": {
            "tags": []
          },
          "execution_count": 4
        },
        {
          "output_type": "display_data",
          "data": {
            "image/png": "[encoded data removed]",
            "text/plain": [
              "<Figure size 432x288 with 1 Axes>"
            ]
          },
          "metadata": {
            "tags": []
          }
        }
      ]
    },
    {
      "cell_type": "markdown",
      "metadata": {
        "id": "7WqDWMpLV-7F",
        "colab_type": "text"
      },
      "source": [
        "**See how our content look like**"
      ]
    },
    {
      "cell_type": "code",
      "metadata": {
        "id": "wVwRrjFcWDmF",
        "colab_type": "code",
        "outputId": "7b3f8990-264c-445c-c502-f96af66f3709",
        "colab": {
          "base_uri": "https://localhost:8080/",
          "height": 377
        }
      },
      "source": [
        "for i,content in enumerate (df['CONTENT'], 1):\n",
        "    if i > 20:\n",
        "        break\n",
        "    else:\n",
        "        print(i, content)\n",
        "\n"
      ],
      "execution_count": 5,
      "outputs": [
        {
          "output_type": "stream",
          "text": [
            "1 Huh, anyway check out this you[tube] channel: kobyoshi02\n",
            "2 Hey guys check out my new channel and our first vid THIS IS US THE  MONKEYS!!! I'm the monkey in the white shirt,please leave a like comment  and please subscribe!!!!\n",
            "3 just for test I have to say murdev.com\n",
            "4 me shaking my sexy ass on my channel enjoy ^_^ ﻿\n",
            "5 watch?v=vtaRGgvGtWQ   Check this out .﻿\n",
            "6 Hey, check out my new website!! This site is about kids stuff. kidsmediausa  . com\n",
            "7 Subscribe to my channel ﻿\n",
            "8 i turned it on mute as soon is i came on i just wanted to check the  views...﻿\n",
            "9 You should check my channel for Funny VIDEOS!!﻿\n",
            "10 and u should.d check my channel and tell me what I should do next!﻿\n",
            "11 Hey subscribe to me﻿\n",
            "12  Once you have started reading do not stop. If you do not subscribe to me  within one day you and you're entire family will die so if you want to stay  alive subscribe right now.﻿\n",
            "13 https://twitter.com/GBphotographyGB﻿\n",
            "14 subscribe like comment﻿\n",
            "15 please like :D https://premium.easypromosapp.com/voteme/19924/616375350﻿\n",
            "16 Hello! Do you like gaming, art videos, scientific experiments, tutorials,  lyrics videos, and much, much more of that? If you do please check out our  channel and subscribe to it, we've just started, but soon we hope we will  be able to cover all of our expectations... You can also check out what  we've got so far!﻿\n",
            "17 I'm only checking the views﻿\n",
            "18 http://www.ebay.com/itm/171183229277?ssPageName=STRK:MESELX:IT&amp;_trksid=p3984.m1555.l2649 ﻿\n",
            "19 http://ubuntuone.com/40beUutVu2ZKxK4uTgPZ8K﻿\n",
            "20 We are an EDM apparel company dedicated to bringing you music inspired  designs. Our clothing is perfect for any rave or music festival. We have  NEON crop tops, tank tops, t-shirts, v-necks and accessories! follow us on  Facebook or on instagraml for free giveaways news and more!! visit our site  at OnCueApparel﻿\n"
          ],
          "name": "stdout"
        }
      ]
    },
    {
      "cell_type": "markdown",
      "metadata": {
        "id": "aEcDp-P2WloX",
        "colab_type": "text"
      },
      "source": [
        "**Text cleansing, remove digits, remove punctuation, remove html tags**"
      ]
    },
    {
      "cell_type": "code",
      "metadata": {
        "id": "eVl0JP_3WoKH",
        "colab_type": "code",
        "outputId": "a0c5deac-161d-424b-d9ca-b2c42442d698",
        "colab": {
          "base_uri": "https://localhost:8080/",
          "height": 102
        }
      },
      "source": [
        "hl_cleansed = []\n",
        "cleanr = re.compile('<.*?>')\n",
        "for hl in df['CONTENT']:\n",
        "    hl=re.sub(cleanr, ' ', hl)\n",
        "    #     Remove punctuations\n",
        "    clean = hl.translate(str.maketrans('', '', punctuation))\n",
        "    #clean = clean.translate(str.maketrans('', '', punctuation))\n",
        "    #     Remove digits/numbers\n",
        "    clean = clean.translate(str.maketrans('', '', digits))\n",
        "    hl_cleansed.append(clean)\n",
        "    \n",
        "# View comparison\n",
        "index=2\n",
        "print('Original texts :')\n",
        "print(df['CONTENT'][index])\n",
        "print('\\nAfter cleansed :')\n",
        "print(hl_cleansed[index])"
      ],
      "execution_count": 11,
      "outputs": [
        {
          "output_type": "stream",
          "text": [
            "Original texts :\n",
            "just for test I have to say murdev.com\n",
            "\n",
            "After cleansed :\n",
            "just for test I have to say murdevcom\n"
          ],
          "name": "stdout"
        }
      ]
    },
    {
      "cell_type": "markdown",
      "metadata": {
        "id": "dpY1y859XO4u",
        "colab_type": "text"
      },
      "source": [
        "**Tokenization**"
      ]
    },
    {
      "cell_type": "code",
      "metadata": {
        "id": "nPTwGHaXXNTp",
        "colab_type": "code",
        "outputId": "75208fe2-abb4-41c1-b91d-c5e959eed8c1",
        "colab": {
          "base_uri": "https://localhost:8080/",
          "height": 102
        }
      },
      "source": [
        "# Tokenization process\n",
        "hl_tokens = []\n",
        "for hl in hl_cleansed:\n",
        "    hl_tokens.append(hl.split())\n",
        "\n",
        "# View Comparison\n",
        "index=2\n",
        "print('Before tokenization :')\n",
        "print(hl_cleansed[index])\n",
        "print('\\nAfter tokenization :')\n",
        "print(hl_tokens[index])"
      ],
      "execution_count": 12,
      "outputs": [
        {
          "output_type": "stream",
          "text": [
            "Before tokenization :\n",
            "just for test I have to say murdevcom\n",
            "\n",
            "After tokenization :\n",
            "['just', 'for', 'test', 'I', 'have', 'to', 'say', 'murdevcom']\n"
          ],
          "name": "stdout"
        }
      ]
    },
    {
      "cell_type": "markdown",
      "metadata": {
        "id": "8jtk74hVseuV",
        "colab_type": "text"
      },
      "source": [
        "**Lemmatization**"
      ]
    },
    {
      "cell_type": "code",
      "metadata": {
        "id": "aZClcUE3syXR",
        "colab_type": "code",
        "outputId": "bad740ec-fa89-4aa9-8422-266db6bb4413",
        "colab": {
          "base_uri": "https://localhost:8080/",
          "height": 51
        }
      },
      "source": [
        "def get_wordnet_pos(word):\n",
        "    \"\"\"Map POS tag to first character lemmatize() accepts\"\"\"\n",
        "    tag = nltk.pos_tag([word])[0][1][0].upper()\n",
        "    tag_dict = {\"J\": wordnet.ADJ,\n",
        "                \"N\": wordnet.NOUN,\n",
        "                \"V\": wordnet.VERB,\n",
        "                \"R\": wordnet.ADV}\n",
        "\n",
        "    return tag_dict.get(tag, wordnet.NOUN)\n",
        "\n",
        "# Init Lemmatizer\n",
        "lemmatizer = WordNetLemmatizer()\n",
        "\n",
        "hl_lemmatized = []\n",
        "for tokens in hl_tokens:\n",
        "    lemm = [lemmatizer.lemmatize(w, get_wordnet_pos(w)) for w in tokens]\n",
        "    hl_lemmatized.append(lemm)\n",
        "    \n",
        "# Example comparison\n",
        "word_1 = ['skyrim','dragons', 'are', 'having', 'parties']\n",
        "word_2 = [lemmatizer.lemmatize(w, get_wordnet_pos(w)) for w in word_1]\n",
        "print('Before lemmatization :\\t',word_1)\n",
        "print('After lemmatization :\\t',word_2)"
      ],
      "execution_count": 13,
      "outputs": [
        {
          "output_type": "stream",
          "text": [
            "Before lemmatization :\t ['skyrim', 'dragons', 'are', 'having', 'parties']\n",
            "After lemmatization :\t ['skyrim', 'dragon', 'be', 'have', 'party']\n"
          ],
          "name": "stdout"
        }
      ]
    },
    {
      "cell_type": "markdown",
      "metadata": {
        "id": "AM1y1cQmsxep",
        "colab_type": "text"
      },
      "source": [
        "# ***Training LSTM Model***"
      ]
    },
    {
      "cell_type": "code",
      "metadata": {
        "id": "iJYDzkfdt-D2",
        "colab_type": "code",
        "colab": {}
      },
      "source": [
        "# Vectorize and convert text into sequences\n",
        "max_features = 2000\n",
        "max_token = len(max(hl_lemmatized))\n",
        "tokenizer = Tokenizer(num_words=max_features)\n",
        "tokenizer.fit_on_texts(hl_lemmatized)\n",
        "sequences = tokenizer.texts_to_sequences(hl_lemmatized)\n",
        "X = pad_sequences(sequences, maxlen=max_token)"
      ],
      "execution_count": 0,
      "outputs": []
    },
    {
      "cell_type": "markdown",
      "metadata": {
        "id": "YZSa0su7uENb",
        "colab_type": "text"
      },
      "source": [
        "Split Train, Test"
      ]
    },
    {
      "cell_type": "code",
      "metadata": {
        "id": "oWw-W61xuCM6",
        "colab_type": "code",
        "colab": {}
      },
      "source": [
        "Y = df['CLASS'].values\n",
        "Y = np.vstack(Y)\n",
        "X_train,X_test,Y_train,Y_test = train_test_split(X,Y,test_size=0.3, random_state = 42)"
      ],
      "execution_count": 0,
      "outputs": []
    },
    {
      "cell_type": "markdown",
      "metadata": {
        "id": "LgoJaBDJuMgS",
        "colab_type": "text"
      },
      "source": [
        "Building the Model"
      ]
    },
    {
      "cell_type": "code",
      "metadata": {
        "id": "lFDFFq9kuM0C",
        "colab_type": "code",
        "colab": {}
      },
      "source": [
        "embed_dim = 64\n",
        "model = Sequential()\n",
        "model.add(Embedding(max_features, embed_dim,input_length = max_token))\n",
        "model.add(LSTM(96, dropout=0.2, recurrent_dropout=0.2, activation='relu'))\n",
        "# model.add(Dense(128))\n",
        "# model.add(Activation('relu'))\n",
        "# model.add(Dropout(0.5))\n",
        "model.add(Dense(1))\n",
        "model.add(Activation('sigmoid'))\n",
        "model.compile(loss = 'binary_crossentropy', optimizer='adam',metrics = ['accuracy'])\n",
        "print(model.summary())"
      ],
      "execution_count": 0,
      "outputs": []
    },
    {
      "cell_type": "markdown",
      "metadata": {
        "id": "kIVsgjeSuVzt",
        "colab_type": "text"
      },
      "source": [
        "Training process"
      ]
    },
    {
      "cell_type": "code",
      "metadata": {
        "id": "s0efz9cCuWA7",
        "colab_type": "code",
        "outputId": "c0ac3a59-e9f5-4f4a-e747-443f6a8006d0",
        "colab": {
          "base_uri": "https://localhost:8080/",
          "height": 768
        }
      },
      "source": [
        "epoch = 20\n",
        "batch_size = 128\n",
        "history=model.fit(X_train, Y_train, epochs = epoch, batch_size=batch_size, verbose = 2, validation_split=0.2)"
      ],
      "execution_count": 17,
      "outputs": [
        {
          "output_type": "stream",
          "text": [
            "/usr/local/lib/python3.6/dist-packages/tensorflow/python/framework/indexed_slices.py:434: UserWarning: Converting sparse IndexedSlices to a dense Tensor of unknown shape. This may consume a large amount of memory.\n",
            "  \"Converting sparse IndexedSlices to a dense Tensor of unknown shape. \"\n"
          ],
          "name": "stderr"
        },
        {
          "output_type": "stream",
          "text": [
            "Train on 1095 samples, validate on 274 samples\n",
            "Epoch 1/20\n",
            " - 2s - loss: 0.6892 - accuracy: 0.5991 - val_loss: 0.6839 - val_accuracy: 0.6934\n",
            "Epoch 2/20\n",
            " - 0s - loss: 0.6727 - accuracy: 0.7187 - val_loss: 0.6524 - val_accuracy: 0.7190\n",
            "Epoch 3/20\n",
            " - 0s - loss: 0.6126 - accuracy: 0.7452 - val_loss: 0.5457 - val_accuracy: 0.7226\n",
            "Epoch 4/20\n",
            " - 0s - loss: 0.4987 - accuracy: 0.7589 - val_loss: 0.4470 - val_accuracy: 0.7774\n",
            "Epoch 5/20\n",
            " - 0s - loss: 0.3875 - accuracy: 0.8530 - val_loss: 0.3859 - val_accuracy: 0.8358\n",
            "Epoch 6/20\n",
            " - 0s - loss: 0.3021 - accuracy: 0.8831 - val_loss: 0.3168 - val_accuracy: 0.8723\n",
            "Epoch 7/20\n",
            " - 0s - loss: 0.2288 - accuracy: 0.9096 - val_loss: 0.2898 - val_accuracy: 0.9161\n",
            "Epoch 8/20\n",
            " - 0s - loss: 0.1948 - accuracy: 0.9251 - val_loss: 0.3720 - val_accuracy: 0.9124\n",
            "Epoch 9/20\n",
            " - 0s - loss: 0.1704 - accuracy: 0.9315 - val_loss: 0.5609 - val_accuracy: 0.9161\n",
            "Epoch 10/20\n",
            " - 0s - loss: 0.1419 - accuracy: 0.9397 - val_loss: 0.9427 - val_accuracy: 0.9234\n",
            "Epoch 11/20\n",
            " - 0s - loss: 0.1226 - accuracy: 0.9543 - val_loss: 0.8683 - val_accuracy: 0.9234\n",
            "Epoch 12/20\n",
            " - 0s - loss: 0.1259 - accuracy: 0.9589 - val_loss: 0.7844 - val_accuracy: 0.9197\n",
            "Epoch 13/20\n",
            " - 0s - loss: 0.1277 - accuracy: 0.9470 - val_loss: 1.2420 - val_accuracy: 0.9161\n",
            "Epoch 14/20\n",
            " - 0s - loss: 0.1145 - accuracy: 0.9671 - val_loss: 1.2628 - val_accuracy: 0.9161\n",
            "Epoch 15/20\n",
            " - 0s - loss: 0.0941 - accuracy: 0.9598 - val_loss: 0.9578 - val_accuracy: 0.9234\n",
            "Epoch 16/20\n",
            " - 0s - loss: 0.0832 - accuracy: 0.9744 - val_loss: 0.6306 - val_accuracy: 0.9124\n",
            "Epoch 17/20\n",
            " - 0s - loss: 0.0695 - accuracy: 0.9735 - val_loss: 1.0437 - val_accuracy: 0.9161\n",
            "Epoch 18/20\n",
            " - 0s - loss: 0.0627 - accuracy: 0.9781 - val_loss: 2.1814 - val_accuracy: 0.9161\n",
            "Epoch 19/20\n",
            " - 0s - loss: 0.0667 - accuracy: 0.9763 - val_loss: 2.4126 - val_accuracy: 0.9161\n",
            "Epoch 20/20\n",
            " - 0s - loss: 0.0772 - accuracy: 0.9781 - val_loss: 2.0040 - val_accuracy: 0.9051\n"
          ],
          "name": "stdout"
        }
      ]
    },
    {
      "cell_type": "markdown",
      "metadata": {
        "id": "KyZoDoOFuer8",
        "colab_type": "text"
      },
      "source": [
        "# ***Model Evaluation***\n",
        "\n"
      ]
    },
    {
      "cell_type": "code",
      "metadata": {
        "id": "vulxXnegue6e",
        "colab_type": "code",
        "outputId": "487f2fcc-088c-4d8f-8145-2b209a85655b",
        "colab": {
          "base_uri": "https://localhost:8080/",
          "height": 356
        }
      },
      "source": [
        "fig, (ax1, ax2) = plt.subplots(1,2,figsize=(15,5))\n",
        "fig.suptitle(\"Performance of Model\")\n",
        "ax1.plot(history.history['accuracy'])\n",
        "ax1.plot(history.history['val_accuracy'])\n",
        "vline_cut = np.where(history.history['val_accuracy'] == np.max(history.history['val_accuracy']))[0][0]\n",
        "ax1.axvline(x=vline_cut, color='k', linestyle='--')\n",
        "ax1.set_title(\"Model Accuracy\")\n",
        "ax1.legend(['train', 'test'])\n",
        "\n",
        "ax2.plot(history.history['loss'])\n",
        "ax2.plot(history.history['val_loss'])\n",
        "vline_cut = np.where(history.history['val_loss'] == np.min(history.history['val_loss']))[0][0]\n",
        "ax2.axvline(x=vline_cut, color='k', linestyle='--')\n",
        "ax2.set_title(\"Model Loss\")\n",
        "ax2.legend(['train', 'test'])\n",
        "plt.show()"
      ],
      "execution_count": 21,
      "outputs": [
        {
          "output_type": "display_data",
          "data": {
            "image/png": "[encoded data removed]",
            "text/plain": [
              "<Figure size 1080x360 with 2 Axes>"
            ]
          },
          "metadata": {
            "tags": []
          }
        }
      ]
    },
    {
      "cell_type": "markdown",
      "metadata": {
        "id": "bctsDwmGunnC",
        "colab_type": "text"
      },
      "source": [
        "# ***Test Model***"
      ]
    },
    {
      "cell_type": "code",
      "metadata": {
        "id": "QdXPIWqX5ZV9",
        "colab_type": "code",
        "outputId": "b111474d-2880-446d-fd19-e7552a587e33",
        "colab": {
          "base_uri": "https://localhost:8080/",
          "height": 279
        }
      },
      "source": [
        "pred=np.around(model.predict(X_test))\n",
        "fig, ax = plot_confusion_matrix(conf_mat=confusion_matrix(Y_test,pred))\n",
        "plt.show()"
      ],
      "execution_count": 19,
      "outputs": [
        {
          "output_type": "display_data",
          "data": {
            "image/png": "[encoded data removed]",
            "text/plain": [
              "<Figure size 432x288 with 1 Axes>"
            ]
          },
          "metadata": {
            "tags": []
          }
        }
      ]
    },
    {
      "cell_type": "code",
      "metadata": {
        "id": "C4titeOt6WVX",
        "colab_type": "code",
        "outputId": "8bb0fd6b-4410-474a-f5c7-088377c2badb",
        "colab": {
          "base_uri": "https://localhost:8080/",
          "height": 170
        }
      },
      "source": [
        "print(classification_report(Y_test,pred))"
      ],
      "execution_count": 20,
      "outputs": [
        {
          "output_type": "stream",
          "text": [
            "              precision    recall  f1-score   support\n",
            "\n",
            "           0       0.86      0.89      0.88       284\n",
            "           1       0.90      0.86      0.88       303\n",
            "\n",
            "    accuracy                           0.88       587\n",
            "   macro avg       0.88      0.88      0.88       587\n",
            "weighted avg       0.88      0.88      0.88       587\n",
            "\n"
          ],
          "name": "stdout"
        }
      ]
    },
    {
      "cell_type": "markdown",
      "metadata": {
        "id": "3W3GGFrtydIP",
        "colab_type": "text"
      },
      "source": [
        "# ***Use Another ML Algorithms to Classify***"
      ]
    },
    {
      "cell_type": "markdown",
      "metadata": {
        "id": "hc6yudU6yiTr",
        "colab_type": "text"
      },
      "source": [
        "**Preparing the Data**"
      ]
    },
    {
      "cell_type": "code",
      "metadata": {
        "id": "dHQmHnP8ytNr",
        "colab_type": "code",
        "colab": {}
      },
      "source": [
        "X = [\" \".join(x) for x in hl_lemmatized]\n",
        "Train_X, Test_X, Train_Y, Test_Y = train_test_split(X,df['CLASS'],test_size=0.3)"
      ],
      "execution_count": 0,
      "outputs": []
    },
    {
      "cell_type": "markdown",
      "metadata": {
        "id": "QHwx3tOFy49L",
        "colab_type": "text"
      },
      "source": [
        "**Word Vectorization using TF-IDF**"
      ]
    },
    {
      "cell_type": "code",
      "metadata": {
        "id": "3vbnbytFyxAb",
        "colab_type": "code",
        "colab": {}
      },
      "source": [
        "Tfidf_vect = TfidfVectorizer(max_features=5000)\n",
        "Tfidf_vect.fit(X)\n",
        "Train_X_Tfidf = Tfidf_vect.transform(Train_X)\n",
        "Test_X_Tfidf = Tfidf_vect.transform(Test_X)"
      ],
      "execution_count": 0,
      "outputs": []
    },
    {
      "cell_type": "code",
      "metadata": {
        "id": "XYYPzaVW9rvE",
        "colab_type": "code",
        "colab": {
          "base_uri": "https://localhost:8080/",
          "height": 54
        },
        "outputId": "ff7f8c9c-c5a1-4196-de94-55e5f55a0e60"
      },
      "source": [
        "print(Tfidf_vect.vocabulary_)"
      ],
      "execution_count": 25,
      "outputs": [
        {
          "output_type": "stream",
          "text": [
            "{'huh': 1600, 'anyway': 156, 'check': 488, 'out': 2352, 'this': 3230, 'youtube': 3665, 'channel': 472, 'kobyoshi': 1828, 'hey': 1375, 'guy': 1301, 'my': 2202, 'new': 2233, 'and': 131, 'our': 2350, 'first': 1090, 'vid': 3414, 'is': 1717, 'us': 3382, 'the': 3206, 'monkeys': 2151, 'im': 1642, 'monkey': 2150, 'in': 1656, 'white': 3544, 'shirtplease': 2860, 'leave': 1876, 'like': 1900, 'comment': 566, 'please': 2462, 'subscribe': 3082, 'just': 1781, 'for': 1117, 'test': 3188, 'have': 1344, 'to': 3260, 'say': 2783, 'murdevcom': 2188, 'me': 2051, 'shake': 2840, 'sexy': 2837, 'as': 186, 'on': 2321, 'enjoy': 922, 'watchvvtarggvgtwq': 3498, 'website': 3514, 'site': 2908, 'be': 260, 'about': 7, 'kid': 1807, 'stuff': 3071, 'kidsmediausa': 1809, 'com': 557, 'turn': 3326, 'it': 1721, 'mute': 2199, 'soon': 2977, 'come': 558, 'want': 3471, 'views': 3428, 'you': 3652, 'should': 2873, 'funny': 1174, 'videos': 3418, 'shouldd': 2874, 'tell': 3180, 'what': 3532, 'do': 801, 'next': 2235, 'once': 2322, 'start': 3035, 'reading': 2639, 'not': 2270, 'stop': 3054, 'if': 1624, 'within': 3576, 'one': 2324, 'day': 711, 'youre': 3660, 'entire': 936, 'family': 1022, 'will': 3561, 'die': 767, 'so': 2945, 'stay': 3040, 'alive': 93, 'right': 2721, 'now': 2277, 'httpstwittercomgbphotographygb': 1482, 'httpspremiumeasypromosappcomvoteme': 1472, 'hello': 1361, 'game': 1182, 'art': 183, 'video': 3415, 'scientific': 2792, 'experiment': 988, 'tutorial': 3329, 'lyric': 1999, 'much': 2181, 'more': 2159, 'of': 2298, 'that': 3203, 'weve': 3531, 'but': 413, 'we': 3510, 'hope': 1412, 'able': 3, 'cover': 639, 'all': 94, 'expectation': 985, 'can': 426, 'also': 105, 'get': 1209, 'far': 1031, 'only': 2328, 'httpwwwebaycomitmsspagenamestrkmeselxitamptrksidpml': 1557, 'httpubuntuonecombeuutvuzkxkutgpzk': 1542, 'an': 125, 'edm': 881, 'apparel': 163, 'company': 575, 'dedicate': 729, 'bring': 386, 'music': 2189, 'inspire': 1685, 'design': 753, 'clothing': 537, 'perfect': 2407, 'any': 151, 'rave': 2632, 'or': 2340, 'festival': 1065, 'neon': 2223, 'crop': 665, 'top': 3272, 'tank': 3162, 'tshirts': 3319, 'vnecks': 3445, 'accessory': 19, 'follow': 1107, 'facebook': 1006, 'instagraml': 1687, 'free': 1141, 'giveaway': 1225, 'news': 2234, 'visit': 3439, 'at': 197, 'oncueapparel': 2323, 'think': 3228, 'million': 2105, 'view': 3425, 'from': 1156, 'people': 2404, 'who': 3547, 'show': 2876, 'your': 3659, 'auburn': 200, 'pride': 2520, 'here': 1367, 'httpwwwteespringcomtigermeathoodie': 1584, 'marketglory': 2037, 'comstrategygameandrijamatf': 587, 'earn': 866, 'real': 2642, 'money': 2146, 'yr': 3689, 'old': 2313, 'producer': 2530, 'make': 2020, 'chiptunes': 504, 'bit': 325, 'would': 3602, 'wonderful': 3586, 'checked': 489, 'some': 2954, 'remixes': 2686, 'even': 956, 'gangnamstyle': 1193, 'remix': 2684, 'thanks': 3197, 'kyle': 1838, 'rap': 2619, 'yeah': 3639, 'dont': 816, 'watch': 3486, 'anymore': 153, 'billion': 316, 'android': 134, 'apps': 173, 'everyone': 965, 'song': 2964, 'memory': 2077, 'martin': 2039, 'luther': 1993, 'king': 1817, 'jr': 1772, 'came': 422, 'goodbye': 1245, 'sub': 3077, 'no': 2256, 'reason': 2648, 'dubstep': 848, 'fireball': 1086, 'with': 3575, 'fruity': 1159, 'loops': 1958, 'really': 2645, 'take': 3155, 'time': 3253, 'watchvteloarioo': 3496, 'billioncoming': 317, 'why': 3553, 'dafuq': 691, 'korean': 1833, 'big': 307, 'usa': 3383, 'does': 804, 'mean': 2052, 'support': 3121, 'koreans': 1834, 'last': 1856, 'they': 3223, 'bomb': 350, 'listen': 1921, 'best': 295, 'ever': 958, 'succesfull': 3097, 'pplease': 2507, 'takes': 3156, 'seconds': 2806, 'ill': 1634, 'back': 238, 'yt': 3690, 'grateful': 1269, 'could': 628, 'clip': 533, 'bf': 304, 'give': 1224, 'advice': 60, 'how': 1429, 'improve': 1653, 'sure': 3125, 'go': 1232, 'see': 2811, 'hater': 1340, 'hate': 1339, 'win': 3564, 'project': 2536, 'after': 69, 'effects': 885, 'foto': 1127, 'web': 3513, 'another': 147, 'find': 1083, 'buy': 416, 'httpaudiojunglenetusereugenekalininportfoliorefeugenekalinin': 1433, 'youtubecodytolleson': 3670, 'awesome': 220, 'roblox': 2739, 'minecraft': 2116, 'world': 3595, 'warcraft': 3475, 'gta': 1282, 'mario': 2033, 'suscribe': 3132, 'must': 2198, 'czfcxsnjnq': 688, 'httpwwwtwitchtvjaroadc': 1587, 'stream': 3061, 'raw': 2633, 'talent': 3157, 'straight': 3058, 'hip': 1386, 'hop': 1411, 'sound': 2987, 'dizzy': 797, 'got': 1261, 'juice': 1774, 'prod': 2528, 'by': 418, 'drugs': 845, 'model': 2137, 'citizen': 520, 'lazy': 1868, 'prophetz': 2544, 'pls': 2472, 'count': 632, 'hour': 1425, 'httpwwwavaazorgpopetitionyoutubecorporationfoxbroadcastingcompanyanularosstrikesnocanalnostalgiacxpzpgb': 1549, 'thumb': 3243, 'up': 3369, 'hw': 1609, 'plz': 2474, 'xx': 3628, 'often': 2306, 'help': 1362, 'reach': 2636, 'avoid': 214, 'baby': 236, 'because': 270, 'hit': 1393, 'yet': 3647, 'httpswwwfacebookcompagesbrewcrew': 1499, 'facebookpage': 1007, 'chance': 466, 'iphone': 1713, 'gwar': 1304, 'play': 2449, 'superbowl': 3116, 'httpwwwchangeorgpetitionsthenationalfootballleagueallowgwartoperformthesuperbowlhalftimeshowshare': 1556, 'httpwwwtwitchtvsevadus': 1588, 'hi': 1377, 'httptankionlinecomfriendcddbf': 1534, 'great': 1271, 'has': 1336, 'chuck': 518, 'norrus': 2267, 'ovbiously': 2355, 'behold': 278, 'most': 2164, 'history': 1392, 'when': 3537, 'gonna': 1242, 'dislike': 785, 'themselves': 3211, 'psykorean': 2554, 'omg': 2318, 'oldspice': 2315, 'spraytan': 3023, 'party': 2376, 'commercial': 570, 'omgim': 2319, 'sit': 2907, 'isnt': 1719, 'thing': 3225, 'every': 961, 'popular': 2487, 'actually': 36, 'its': 1726, 'quite': 2576, 'while': 3541, 'billions': 318, 'fablife': 1003, 'welcome': 3521, 'diys': 796, 'challenge': 463, 'thx': 3248, 'httpwwwguardaloorgbestoffunnycatsgattipazziedivertenti': 1573, 'drone': 842, 'kamal': 1789, 'tayara': 3169, 'he': 1348, 'his': 1390, 'absolutely': 10, 'beautiful': 268, 'httphackfbaccountlivecomref': 1440, 'whats': 3534, 'trying': 3316, 'showcase': 2877, 'over': 2356, 'subscribers': 3087, 'promise': 2537, 'suck': 3103, 'spread': 3024, 'covers': 640, 'around': 180, 'amp': 122, 'share': 2851, 'lucas': 1985, 'trigo': 3304, 'gtgtgtgt': 1286, 'httpswwwfacebookcomvideophpvampsetvbamptypeamppermpage': 1514, 'lt': 1983, 'thereim': 3219, 'group': 1276, 'leader': 1870, 'angel': 135, 'rookie': 2749, 'pop': 2485, 'four': 1129, 'member': 2073, 'chanicka': 471, 'julie': 1775, 'stephanie': 3044, 'myself': 2203, 'leah': 1872, 'feel': 1055, 'feedback': 1054, 'criticism': 662, 'know': 1826, 'notch': 2271, 'singer': 2898, 'constructive': 610, 'appreciate': 169, 'before': 274, 'audition': 203, 'management': 2027, 'plan': 2443, 'jyp': 1788, 'bighit': 310, 'jellyfish': 1752, 'yg': 3649, 'sm': 2933, 'thank': 3194, 'read': 2638, 'httpwooboxcomgxrfbrtu': 1545, 'cs': 670, 'admit': 49, 'number': 2283, 'viewer': 3427, 'still': 3052, 'apparently': 164, 'psy': 2553, 'gangnam': 1192, 'style': 3075, '강남스타일': 3702, 'mv': 2201, 'httpyoutubebzkpqf': 1596, 'xd': 3625, 'lol': 1943, 'wow': 3604, 'comments': 568, 'section': 2809, 'active': 31, 'bad': 239, 'httpbinboxiofiro': 1435, 'ching': 503, 'ling': 1915, 'long': 1946, 'ding': 773, 'ring': 2726, 'yaaaaaa': 3632, 'ganga': 1189, 'sty': 3074, 'fuck': 1163, 'httpswwwindiegogocomprojectscleaningthepan': 1515, 'halp': 1322, 'there': 3214, 'brother': 393, 'anyone': 154, 'use': 3384, 'gift': 1214, 'card': 435, 'amazon': 113, 'itunes': 1732, 'psn': 2552, 'google': 1249, 'other': 2345, 'then': 3212, 'youll': 3655, 'happy': 1329, 'code': 544, 'amaze': 110, 'xxbbtczhmhvzd': 3629, 'many': 2031, 'asian': 188, 'nonasian': 2262, 'country': 634, 'jelly': 1751, 'try': 3315, 'learn': 1874, 'asia': 187, 'look': 1948, 'plizz': 2469, 'withing': 3577, 'unique': 3359, 'angry': 137, 'httpwwwgofundmecomlittlebrother': 1569, 'anybody': 152, 'subscribes': 3089, 'httpthepiratebaysetorrenttimothysykescollection': 1538, 'half': 1319, 'way': 3507, 'decent': 723, 'them': 3209, 'deserve': 751, 'keep': 1801, 'itz': 1733, 'recap': 2649, 'above': 8, 'diddle': 765, 'screw': 2797, 'chinese': 502, 'crap': 646, 'understand': 3353, 'speak': 2999, 'english': 920, 'need': 2218, 'moneyenjoy': 2147, 'httpswwwtsucoemersonzanol': 1526, 'visuelgamingznl': 3442, 'youtuber': 3685, 'hoppa': 1415, 'gangam': 1190, 'weird': 3520, 'subscriber': 3086, 'ehi': 890, 'guys': 1302, 'am': 109, 'lexis': 1889, 'band': 244, 'upload': 3375, 'their': 3208, 'own': 2359, 'miss': 2122, 'too': 3270, 'lot': 1965, 'click': 531, 'gt': 1281, 'never': 2232, 'love': 1971, 'gofundmecomgrwmps': 1236, 'page': 2360, 'picture': 2431, 'funnytortspics': 1175, 'httpsplusgooglecompost': 1470, 'bitches': 327, 'made': 2010, 'china': 501, 'milions': 2104, 'comentars': 561, 'bilion': 313, 'zero': 3695, 'mix': 2128, 'holy': 1401, 'shit': 2861, 'person': 2416, 'zombie': 3698, 'apocalypse': 159, 'greeting': 1275, 'spoderman': 3010, 'wiews': 3557, 'grow': 1277, 'crazy': 649, 'uk': 3340, 'korea': 1832, 'republic': 2696, 'discover': 781, 'young': 3656, 'moroccan': 2162, 'httpwwwlinkbuckscomacng': 1574, 'cardsbut': 436, 'spending': 3004, 'cash': 443, 'juno': 1778, 'wallet': 3466, 'such': 3102, 'nike': 2247, 'gamestop': 1185, 'ebay': 873, 'etc': 950, 'easy': 871, 'simple': 2892, 'task': 3166, 'videosdownloading': 3419, 'invite': 1710, 'friend': 1151, 'joinits': 1766, 'signup': 2888, 'sign': 2886, 'today': 3261, 'promo': 2538, 'bd': 259, 'somebody': 2955, 'wake': 3464, 'lots': 1966, 'justin': 1784, 'bieber': 306, 'gay': 1200, 'gotta': 1262, 'well': 3522, 'worth': 3600, 'clicked': 532, 'everything': 967, 'uphill': 3373, 'least': 1875, 'jbs': 1747, 'ahhh': 79, 'year': 3640, 'ago': 74, 'dance': 697, 'dancepsy': 698, 'httpwwwreverbnationcommsmarilynmiles': 1579, 'starlitnightsky': 3033, 'epic': 939, 'httpswwwtsucokodysman': 1527, 'stupid': 3072, 'doesnt': 805, 'thousand': 3239, 'millions': 2106, 'httpwwwgcmforexcompartnersawaspxtaskjointampaffiliateid': 1561, 'men': 2078, 'put': 2564, 'allot': 96, 'effort': 886, 'into': 1704, 'unfortunatly': 3358, 'httpwwwvakinhacombrvaquinhaeaspxe': 1591, 'vip': 3432, 'gun': 1297, 'cross': 666, 'fire': 1085, 'al': 87, 'add': 40, 'herehttpswwwfacebookcomtlouxmusic': 1368, 'singing': 2900, 'place': 2442, 'promote': 2540, 'pay': 2390, 'pal': 2365, 'pivot': 2441, 'animation': 140, 'twitter': 3335, 'ig': 1626, 'killuminati': 1814, 'oppa': 2338, 'httpwwwsunfrogshirtscomsunglassworldhtml': 1582, 'httpswwwfacebookcomteelalala': 1512, 'httpwwwtwitchtvzxlightsoutxz': 1590, 'reminds': 2682, 'httpssoundcloudcompopaegiswrennalmondeyes': 1477, 'httpwwwswagbuckscompregisterrb': 1583, 'search': 2802, 'chubbz': 517, 'dinero': 772, 'ready': 2641, 'mscalifornia': 2176, 'single': 2901, 'type': 3339, 'face': 1005, 'earth': 868, 'ｄａｍｎ': 3704, 'ｔｈｉｓ': 3708, 'ｃｏｍｍｅｎｔ': 3703, 'ｉｓ': 3707, 'ｆａｎｃy': 3705, 'static': 3038, 'incmediaorg': 1662, 'where': 3539, 'truth': 3314, 'meet': 2063, 'pe': 2396, 'let': 1885, 'found': 1128, 'name': 2208, 'httpwwwbubblewscomnewspeaceandbrotherhood': 1554, 'again': 71, 'wouldnt': 3603, 'mind': 2112, 'chacking': 461, 'il': 1633, 'giver': 1226, 'vids': 3422, 'httpwwwamazoncoukgpofferlistingbecvfgsrqidrefolptabrefurbishedieutfampconditionrefurbishedampqidampsr': 1548, 'httpflipagramcomflukaqmrhf': 1437, 'christmas': 515, 'httpwwwgofundmecomgvrxg': 1566, 'plus': 2473, 'nice': 2238, 'httpswwwchangeorgpfacebooktwitteryoutubedonotcensorjulienblanc': 1486, 'httpssoundcloudcomjackalandjameswrapupthenight': 1474, 'httpswwwsurveymonkeycomscvhmklt': 1524, 'wont': 3587, 'disappointed': 778, 'viral': 3434, 'true': 3309, 'vidios': 3421, 'spam': 2992, 'bot': 364, 'cmon': 540, 'bs': 398, 'awesomeness': 221, 'aaaaaaa': 0, 'lada': 1842, 'dear': 719, 'httpwwwermailpldolaczvveygin': 1559, 'social': 2947, 'network': 2231, 'tsu': 3320, 'special': 3001, 'thingyou': 3227, 'post': 2497, 'fb': 1046, 'toll': 3265, 'paid': 2362, 'registr': 2667, 'httpswwwtsucoworldwidelife': 1530, 'yellow': 3644, 'suit': 3109, 'kinda': 1816, 'jaesuk': 1739, 'fbyou': 1048, 'register': 2666, 'difference': 769, 'onedont': 2326, 'waste': 3482, 'everyday': 963, 'httpswwwtsucoslema': 1528, 'wellcome': 3523, 'multiple': 2184, 'accounts': 23, 'wat': 3485, 'da': 689, 'viewed': 3426, 'httpwwwtwitchtvtareko': 1589, 'him': 1384, 'twitch': 3334, 'enter': 929, 'keyword': 1805, 'expensive': 986, 'csgo': 671, 'sell': 2818, 'steam': 3041, 'market': 2035, 'httpswwwtsucoaseris': 1525, 'fantastic': 1029, 'population': 2488, 'than': 3193, 'min': 2110, 'super': 3115, 'book': 354, 'repass': 2691, 'httpwwwsharedcomwebpreviewpdfcjfoftxeba': 1581, 'later': 1858, 'kind': 1815, 'launchpad': 1864, 'spot': 3017, 'easily': 870, 'care': 438, 'bother': 365, 'loli': 1944, 'dunno': 856, 'joke': 1767, 'whatever': 3533, 'piece': 2433, 'gangman': 1191, 'dddddddrop': 714, 'bass': 256, 'rappersongwriter': 2628, 'pleasealso': 2463, 'whole': 3548, 'dick': 762, 'stuck': 3069, 'elevator': 895, 'excuse': 980, 'prehistoric': 2512, 'songhas': 2969, 'been': 273, 'smart': 2936, 'headbutt': 1350, 'ex': 971, 'enimen': 921, 'loool': 1953, 'understands': 3354, 'pray': 2510, 'little': 1927, 'month': 2156, 'left': 1879, 'tumor': 3323, 'head': 1349, 'instagram': 1686, 'chriscz': 511, 'relevant': 2676, 'saythis': 2787, 'change': 469, 'completely': 582, 'good': 1244, 'job': 1760, 'girl': 1220, 'camera': 423, 'man': 2026, 'glasses': 1229, 'wrong': 3612, 'koean': 1830, 'chainise': 462, 'ana': 126, 'hahahahah': 1314, 'december': 722, 'dumb': 854, 'equal': 940, 'smartie': 2937, 'pants': 2368, 'theres': 3220, 'point': 2480, 'listening': 1924, 'stfu': 3049, 'mom': 2144, 'her': 1365, 'america': 117, 'mine': 2115, 'jap': 1744, 'worthless': 3601, 'fish': 1091, 'untanlted': 3366, 'gook': 1250, 'fucken': 1164, 'sad': 2763, 'remember': 2679, 'obsess': 2291, 'remove': 2687, 'wank': 3469, 'hard': 1331, 'ithat': 1723, 'child': 497, 'actor': 32, 'hwang': 1610, 'minoo': 2118, 'very': 3408, 'suffer': 3107, 'brain': 376, 'believe': 283, 'future': 1176, 'superstar': 3119, 'stronglittlepsy': 3067, 'fighting': 1074, 'praying': 2511, 'httpygunitedcomlittlepsyfromthehasbraintumormonthslefttolive': 1595, 'update': 3371, 'minute': 2119, 'memories': 2075, 'users': 3388, 'fake': 1018, 'account': 22, 'hack': 1307, 'saw': 2782, 'yeat': 3643, 'word': 3592, 'hole': 1400, 'cool': 619, 'voyage': 3454, 'problem': 2527, 'phenomenon': 2424, 'behind': 277, 'random': 2615, 'slut': 2932, 'bitch': 326, 'hyuna': 1613, 'kollektivet': 1831, 'slappin': 2925, 'penis': 2402, 'credit': 655, 'receive': 2650, 'fun': 1171, 'review': 2710, 'flute': 1103, 'deal': 718, 'theory': 3213, 'couldve': 630, 'gotten': 1263, 'mabey': 2005, 'realy': 2647, 'access': 18, 'internet': 1702, 'include': 1661, 'rise': 2729, 'populatoin': 2489, 'connect': 603, 'hackers': 1308, 'may': 2046, 'feature': 1051, 'mp': 2174, 'concert': 591, 'eve': 955, 'event': 957, 'those': 3233, 'complain': 579, 'heck': 1359, 'hits': 1394, 'chanel': 467, 'queen': 2570, 'michael': 2093, 'jackson': 1738, 'pause': 2389, 'millisecond': 2108, 'chick': 496, 'laugh': 1861, 'few': 1066, 'tries': 3302, 'annoying': 145, 'httpswwwfacebookcompagesmathsterwprefhl': 1505, 'millioon': 2107, 'dislikesssssssssssssssssssssssssssssssss': 788, 'live': 1928, 'lucks': 1987, 'kidz': 1810, 'billon': 319, 'millonget': 2109, 'fact': 1012, 'humanity': 1602, 'call': 420, 'odowd': 2297, 'crowd': 667, 'movie': 2173, 'part': 2375, 'translate': 3291, 'saying': 2785, 'second': 2805, 'smh': 2938, 'join': 1765, 'tsū': 3321, 'publishing': 2556, 'platform': 2447, 'content': 613, 'httptsucomarkusmairhofer': 1539, 'youtubedaaaaaaaaaaannng': 3673, 'almost': 99, 'dominate': 812, 'entirechina': 937, 'officialpsy': 2302, 'dislikesepic': 787, 'failready': 1014, 'fanboys': 1026, 'knew': 1824, 'funnier': 1173, 'end': 918, 'spoken': 3011, 'rapidly': 2623, 'enough': 928, 'two': 3336, 'planet': 2445, 'joking': 1768, 'summon': 3111, 'freddy': 1139, 'mercurys': 2081, 'ghost': 1212, 'whipe': 3542, 'direction': 774, 'miley': 2101, 'cirus': 519, 'round': 2755, 'public': 2555, 'pour': 2503, 'bucket': 402, 'ice': 1615, 'water': 3502, 'run': 2759, 'away': 217, 'act': 29, 'wasnt': 3481, 'shares': 2852, 'dylan': 861, 'irl': 1715, 'football': 1115, 'tomorrow': 3266, 'hunger': 1605, 'games': 1184, 'follower': 1108, 'httpswwwfacebookcomlists': 1494, 'beibs': 279, 'capitalize': 433, 'tazz': 3171, 'self': 2816, 'college': 551, 'bottom': 366, 'heart': 1356, 'httpswwwindiegogocomprojectsiwanttogotocollegex': 1518, 'httpswwwfacebookcomschoolgeniusnitsphotosmscejwkvkoxdamqmhzsnjqpthqbeumaqupihfphgkzllsvdqvzufmblnujufthyokfrxytszvrrpqgtwylhfvlczzrgvgctlpsdongewhjgibuslzmvyiqtwsfzzwhnjusvhufpglqrzczlfnphagevbxydmcxjtcjnmhovfxwcjzyvwobihrngxocjngpgevhxzyjdohryfsprndxvbzszzbpsatypeamptheater': 1511, 'sucscribe': 3105, 'vaahidmustafic': 3393, 'offıcal': 2305, 'httpswwwfacebookcomnicushorbboy': 1497, 'mee': 2062, 'sorry': 2986, 'jenny': 1754, 'high': 1380, 'school': 2791, 'dress': 835, 'fashionable': 1034, 'cute': 682, 'clothes': 536, 'low': 1981, 'esteem': 945, 'dad': 690, 'pass': 2380, 'mother': 2165, 'figure': 1075, 'since': 2896, 'boy': 370, 'attention': 199, 'alone': 101, 'wear': 3512, 'pretty': 2517, 'boyfriend': 371, 'cant': 430, 'shy': 2883, 'confidence': 595, 'talk': 3159, 'someone': 2957, 'caroline': 441, 'she': 2853, 'move': 2170, 'donate': 814, 'brand': 378, 'shop': 2868, 'walmart': 3467, 'wanna': 3470, 'nail': 2205, 'salon': 2766, 'alot': 102, 'these': 3222, 'french': 1146, 'tip': 3256, 'hair': 1315, 'curl': 675, 'httpwwwgofundmecomdressprettyonce': 1564, 'throw': 3241, 'goal': 1233, 'lets': 1886, 'fly': 1104, 'burn': 409, 'chhanel': 495, 'going': 1238, 'posting': 2499, 'daily': 692, 'hav': 1343, 'idea': 1618, 'language': 1852, 'wonder': 3585, 'illuminati': 1638, 'confirm': 596, 'craft': 644, 'shoot': 2867, 'subs': 3080, 'fuego': 1167, 'la': 1839, 'hyperurlcokaxt': 1611, 'wwwmarketglorycomstrategygamelordviperas': 3618, 'shitty': 2863, 'government': 1264, 'didnt': 766, 'block': 339, 'thered': 3217, 'close': 534, 'record': 2656, 'drunk': 847, 'during': 858, 'limit': 1913, 'sun': 3112, 'exposure': 993, 'drive': 840, 'eliminate': 896, 'hassle': 1337, 'swing': 3143, 'car': 434, 'visor': 3440, 'between': 300, 'windshield': 3567, 'window': 3566, 'httpswwwkickstartercomprojectsvisortwin': 1519, 'hahah': 1312, 'juyk': 1787, 'allways': 98, 'httpswwwfacebookcomfudairyqueenpnrefstory': 1491, 'haha': 1310, 'salt': 2767, 'westerner': 3529, 'httpstwittercomthewaxedhatco': 1483, 'imagine': 1645, 'adsense': 52, 'ur': 3380, 'morgage': 2160, 'forget': 1119, 'train': 3287, 'outfit': 2353, 'huge': 1599, 'turnoff': 3327, 'lack': 1840, 'eyebrow': 1001, 'difficult': 771, 'httpimageyouru': 1441, 'entertain': 930, 'shotgun': 2872, 'montagesninja': 2155, 'defuse': 735, 'montages': 2154, 'trolling': 3306, 'certain': 458, 'amount': 121, 'httpswwwfacebookcomtofikmiedzynbphotosatypeamptheater': 1513, 'httpswwwfacebookcomeecconpostscommentidampoffsetamptotalcomments': 1489, 'frigea': 1153, 'marius': 2034, 'gabriel': 1179, 'httpwwwbingcomexplorerewardspublreferafriendampcrearawamprridffaaaacfcedeeaca': 1552, 'bing': 321, 'reward': 2711, 'virus': 3438, 'blue': 344, 'shirt': 2859, 'th': 3190, 'worldwide': 3597, 'httpteespringcomtreechristmas': 1535, 'crdits': 651, 'link': 1916, 'download': 823, 'app': 162, 'httpsmfreemyappscomshareurlafe': 1463, 'something': 2958, 'everyones': 966, 'lool': 1951, 'hear': 1353, 'duty': 859, 'aways': 218, 'photo': 2426, 'editor': 880, 'httpsplaygooglecomstoreappsdetailsidcombutalabsphotoeditor': 1466, 'thought': 3237, 'were': 3526, 'generate': 1204, 'leads': 1871, 'auto': 209, 'pilot': 2436, 'httpwwwmyleadergatecommoretraffic': 1576, 'httpwwwbillboardcomarticlescolumnspopshopfanarmyfaceoffround': 1551, 'vote': 3449, 'sones': 2963, 'pleasewere': 2464, 'against': 72, 'vipsplease': 3433, 'gtlt': 1288, 'fight': 1073, 'abusedmistreated': 13, 'animal': 138, 'fund': 1172, 'vet': 3409, 'billsand': 320, 'home': 1402, 'extra': 997, 'emphasis': 910, 'disabled': 776, 'otherwise': 2347, 'sleep': 2926, 'organization': 2343, 'httpwwwgofundmecomangelsnwingz': 1562, 'httppsnbosscomreftggppvl': 1447, 'trailer': 3286, 'httpbelievemefilmcomhlrhhqbuvb': 1434, 'httpssoundcloudcomnereboycallofthelostproducebyatlastatlasrapperjkork': 1476, 'message': 2085, 'pleaaaase': 2458, 'httpinstagramcomcyrineghorbel': 1442, 'pleaase': 2459, 'dream': 830, 'httpwwwbarnesandnoblecomsbdpcsrftokenitixecnkcosoqkemgjluuwvnsxsoampsortddampsizeampcsrftokeniyecnrwpnytnouamhvmflutgglampdrefampkeywordbdpampstoreebook': 1550, 'httpwwwtwitchtvdaconnormc': 1586, 'glamour': 1228, 'beauty': 269, 'sing': 2897, 'fell': 1059, 'kitten': 1820, 'always': 108, 'httpswwwfacebookcomphotophpfbidampldac': 1507, 'httpswwwfacebookcomphotophpvampsetvbamptypeamptheater': 1509, 'httpssoundcloudcomartady': 1473, 'break': 382, 'katie': 1792, 'downloads': 824, 'small': 2935, 'nearly': 2217, 'shikas': 2858, 'life': 1894, 'anime': 142, 'regret': 2668, 'httpwwwrtbfbetvemissiondetailthevoicebelgiquetouteslesauditionsauditiondetailemissionidampid': 1580, 'voice': 3447, 'liked': 1904, 'score': 2796, 'katy': 1794, 'perry': 2414, 'dollar': 809, 'ok': 2310, 'thats': 3205, 'erection': 942, 'cyrus': 687, 'httpwwwgooglerourlsatamprctjampqampesrcsampsourcewebampcdampvedcbqfjaaampurlhttpaffenwikipediaorgfwikiflistofmostviewedyoutubevideosampeioqyudwclyqoyogoawampusgafqjcngkmidplalkuvkoekvgdttjvlqampsigonqzzadqcmnbenmlgaampbvmbvdbgqampcadrja': 1572, 'httpwwwamazoncomknightdawncurseddanielnebookdpbmppqhrirefsrsdigitaltextampbieutfampbqidampbsrampbkeywordsknightamptagwattpad': 1547, 'talented': 3158, 'sponsor': 3013, 'httpwwwbubblewscomaccountsheilcen': 1553, 'house': 1427, 'httpssoundcloudcomsoundhaseedmhousemix': 1479, 'hiya': 1395, 'videoxx': 3420, 'maroon': 2038, 'late': 1857, 'nd': 2215, 'was': 3479, 'wwwyoutube': 3624, 'comwatchvtqfuau': 589, 'httpwwwgofundmecomrjanimalcare': 1570, 'httpwwwmediafirecomdownloadyvovhafsvqzzqovideorar': 1575, 'ltscriptgtdocumentwritelta': 1984, 'targetself': 3165, 'href': 1431, 'httproverebaycomrovericepffamppubamptoolidampcampidampcustomidbogdangrigoreampipnpsmainampicepvectoridampkwidampmtidampkwlggtcheck': 1448, 'arive': 178, 'ebayltagtltimg': 874, 'styletextdecorationnoneborderpaddingmargin': 3076, 'src': 3028, 'httproverebaycomroverimpffamppubamptoolidampcampidampcustomidbogdangrigoreampmptmathfloormathrandomgtltscriptgtltnoscriptgtlta': 1450, 'httproverebaycomroverimpffamppubamptoolidampcampidampcustomidbogdangrigoreampmptcachebuster': 1449, 'gtltnoscriptgt': 1289, 'votekatyperry': 3450, 'mtv': 2179, 'vma': 3444, 'lead': 1869, 'httponmtvcomutkx': 1445, 'httpswwwfacebookcompagesdaadadddaddadacdddaddadddbdaddmusic': 1501, 'marian': 2032, 'venezuela': 3403, 'boygirl': 372, 'cubik': 672, 'cause': 447, 'poprock': 2486, 'xoxo': 3626, 'ps': 2551, 'remind': 2681, 'tigerlike': 3250, 'spirit': 3007, 'south': 2989, 'american': 118, 'jungle': 1777, 'matter': 2044, 'african': 66, 'elephant': 894, 'bengal': 291, 'tiger': 3249, 'same': 2770, 'httpgagcomgagaavpwj': 1438, 'ima': 1643, 'rapper': 2625, 'notice': 2275, 'mixtape': 2129, 'datpiffcommixtapesdetailphpid': 709, 'bout': 367, 'airplane': 85, 'crashed': 648, 'land': 1849, 'survive': 3130, 'pet': 2420, 'tiget': 3251, 'kitty': 1821, 'purpy': 2560, 'mai': 2017, 'nguyen': 2237, 'without': 3578, 'hot': 1421, 'httpukeonlinecomeolimagesentiresiteregkatymkupmhjpg': 1543, 'nokia': 2260, 'phone': 2425, 'plane': 2444, 'crash': 647, 'httpwwwbubblewscomnewsvpssolutions': 1555, 'treu': 3299, 'detective': 757, 'alternate': 106, 'httpwwwfunnyordiecomvideosdfbtruedefectives': 1560, 'makeup': 2022, 'transformation': 3290, 'integrated': 1695, 'lookalike': 1949, 'available': 212, 'ver': 3404, 'install': 1688, 'version': 3407, 'httpsplaygooglecomstoreappsdetailsidcomyourelinkmakeuptransformation': 1468, 'purry': 2561, 'seriously': 2828, 'ft': 1160, 'boa': 346, 'constrictor': 609, 'squeeze': 3027, 'death': 720, 'hid': 1379, 're': 2635, 'twin': 3333, 'melody': 2072, 'did': 764, 'coverswe': 641, 'birthday': 323, 'thanksmercigraciasdankeobrigadograzie': 3199, 'dayd': 712, 'niceesabrosura': 2239, 'viva': 3443, 'httpssoundcloudcomyerkielinmigranteyerkimybmoveyourbody': 1480, 'growtopia': 1278, 'story': 3057, 'httpshhortcomarhupwehab': 1454, 'yay': 3635, 'commenter': 567, 'bitcoins': 328, 'fhenqxtwqmvptayiejnealahzvem': 1068, 'httpshhortcomargixctkd': 1453, 'empower': 912, 'woman': 3583, 'roar': 2735, 'drink': 838, 'bleach': 336, 'shes': 2857, 'hardcore': 1332, 'httpshhortcomarjtufxhxc': 1455, 'fan': 1025, 'write': 3608, 'songs': 2970, 'gorlingoltz': 1260, 'syndrome': 3150, 'community': 573, 'httpswwwfacebookcomgorlingoltzsupport': 1492, 'opinion': 2336, 'black': 333, 'blond': 341, 'eyes': 1002, 'son': 2962, 'grave': 1270, 'httpwwwgofundmecombishopsgravemarker': 1563, 'roarrrr': 2737, 'megt': 2066, 'httpstwittercomfllowshoutouts': 1481, 'finish': 1084, 'dissertation': 791, 'roaaarrr': 2733, 'whore': 3550, 'httpwwwgofundmecomjormis': 1568, 'roaaaaarrrrrr': 2732, 'guarantee': 1291, 'stand': 3031, 'fear': 1050, 'httpshhortcomarlaviqub': 1456, 'inspirational': 1684, 'achieve': 24, 'couldnt': 629, 'greatly': 1272, 'thankful': 3195, 'ty': 3337, 'jack': 1736, 'daniels': 704, 'case': 442, 'dollars': 810, 'httpsmfacebookcomstoryphpstoryfbidampidamprefstream': 1462, 'gf': 1211, 'shot': 2871, 'sec': 2804, 'boob': 353, 'magically': 2012, 'suddenly': 3106, 'dude': 849, 'practically': 2508, 'vanishes': 3397, 'doubt': 821, 'songfeel': 2967, 'sweet': 3140, 'natural': 2213, 'httpwwwaaasorgtechivoteview': 1546, 'sheldon': 2855, 'stars': 3034, 'advance': 54, 'conqueror': 604, 'haki': 1318, 'oportunity': 2337, 'congrasulation': 599, 'httpenprothomalocomsportnewszimbabweateamdueindhakawednesday': 1436, 'poeple': 2479, 'disliked': 786, 'sucks': 3104, 'contest': 614, 'loose': 1959, 'httpswwwfacebookcomexagdlphotosatypeamptheater': 1490, 'inaccurate': 1657, 'rip': 2727, 'artist': 184, 'admire': 48, 'creativity': 653, 'nonsense': 2264, 'mobile': 2135, 'tech': 3176, 'comparison': 577, 'are': 175, 'animals': 139, 'channelbecause': 473, 'film': 1079, 'xoxoleah': 3627, 'maybe': 2047, 'folks': 1106, 'boooobs': 357, 'hat': 1338, 'anything': 155, 'confuse': 598, 'katys': 1799, 'october': 2295, 'looking': 1950, 'soo': 2976, 'damn': 695, 'looooooooooooooooooooovvvvvvvvveeeeeeeeeeee': 1954, 'ittttttttttttt': 1731, 'telephone': 3179, 'randomly': 2616, 'reply': 2694, 'jello': 1750, 'strawberry': 3060, 'ive': 1735, 'smiley': 2940, 'tshirtof': 3318, 'expression': 995, 'important': 1649, 'statistic': 3039, 'measure': 2055, 'warmth': 3476, 'smile': 2939, 'happiness': 1328, 'wwwteespringcomsmiley': 3621, 'amazing': 112, 'gold': 1239, 'brings': 387, 'splash': 3009, 'nuts': 2287, 'stole': 3053, 'comic': 564, 'catchy': 445, 'garbage': 1195, 'rihanna': 2724, 'httpswwwreverbnationcomslicknicksongs': 1523, 'firework': 1088, 'until': 3367, 'overplayed': 2358, 'hell': 1360, 'radio': 2611, 'human': 1601, 'folly': 1109, 'greatthis': 1273, 'awesum': 224, 'jus': 1779, 'luv': 1994, 'acoustic': 26, 'jims': 1758, 'ear': 865, 'off': 2299, 'selfie': 2817, 'alert': 90, 'soundsofsunday': 2988, 'vena': 3402, 'trojmiastoplvenabustaxiohtml': 3305, 'competition': 578, 'idols': 1623, 'pic': 2429, 'httpinstagramcompsmzdivopxb': 1443, 'katty': 1793, 'videoes': 3416, 'girls': 1222, 'httpsviralangelscomuserdaaacwk': 1485, 'feminist': 1063, 'champion': 464, 'reinforce': 2671, 'stereotype': 3046, 'girly': 1223, 'painting': 2363, 'probably': 2526, 'httpthepiratebaysetorrenttheexpendablesdvdscrxviddingo': 1537, 'httpthepiratebaysetorrenttheexpendablesdvdscrleakedcleanxvidmprarbg': 1536, 'interested': 1700, 'wwwswagbuckscomrefernonturtle': 3620, 'note': 2272, 'becomes': 272, 'clear': 530, 'complete': 581, 'utter': 3392, 'god': 1235, 'cleanse': 529, 'idiocy': 1619, 'which': 3540, 'humankind': 1603, 'cup': 674, 'reaction': 2637, 'shout': 2875, 'happen': 1325, 'katycat': 1796, 'httpsmfacebookcomprofilephpid': 1461, 'rid': 2720, 'useless': 3386, 'favorite': 1042, 'sometimes': 2960, 'volume': 3448, 'incredible': 1666, 'extremely': 999, 'tits': 3259, 'gtattention': 1283, 'katycats': 1797, 'noms': 2261, 'ema': 900, 'tv': 3330, 'mtvema': 2180, 'comvote': 588, 'delete': 737, 'space': 2990, 'bigboss': 308, 'broken': 391, 'horn': 1417, 'giftcard': 1215, 'httpshhortcomaroocnjqub': 1457, 'freakin': 1138, 'sheep': 2854, 'period': 2412, 'terrible': 3185, 'invent': 1705, 'formula': 1123, 'inch': 1660, 'research': 2698, 'topic': 3273, 'secret': 2807, 'knowledge': 1827, 'enlargement': 925, 'apply': 167, 'result': 2704, 'course': 637, 'therefore': 3218, 'issue': 1720, 'order': 2341, 'ask': 190, 'info': 1671, 'httpspayhipcombotib': 1465, 'symbolic': 3147, 'begin': 275, 'scar': 2789, 'leopard': 1883, 'bikini': 311, 'three': 3240, 'skinny': 2915, 'size': 2911, 'bisexual': 324, 'sweat': 3139, 'freak': 1137, 'nervous': 2226, 'austin': 205, 'mahones': 2016, 'httpswwwfacebookcompagesnaileynicoolrefhl': 1506, 'balls': 243, 'green': 1274, 'spotted': 3019, 'irritate': 1716, 'passionate': 2382, 'sex': 2834, 'giant': 1213, 'push': 2562, 'ambition': 114, 'aiiima': 81, 'plzzz': 2476, 'httpswwwfacebookcompagescccblcebalmacebbcebt': 1500, 'httpsvimeocom': 1484, 'arent': 176, 'beaties': 265, 'httpswwwfacebookcompageshiphopexpress': 1503, 'yo': 3650, 'bella': 285, 'diagnose': 761, 'wobblers': 3581, 'afford': 63, 'mri': 2175, 'surgery': 3126, 'dog': 806, 'lose': 1962, 'httpwwwgofundmecomfekgw': 1565, 'httpswwwfacebookcompageskomediburdagel': 1504, 'httpswwwfacebookcomprofilephpid': 1510, 'httpwwwgoogleadservicescompageadaclksalampaicsyoebwxvpcfldabgpydgbjdpmihmhuwbgjxbvsbeaegknljvcfbyhfbyiofgicahkabskgwpiaqkpahkmchbpmqambyapbbkoekwfpkullxqimgohvzeefmqrgtullbufszgnhbkjhbxmwtsdxhwpdxkazsjosiecvjjmbnswyijecqvhxlbdzstubofaloyinwmroocppsauatzguickmliduwmabzqvenetrfazorltbbvzyvxihbnqnvhmrbgesibgggbgkabjeycgampnumampcidggsmmatifsmvpicsampsigaodofcsehpopjyrbsxheenqampclientcapubampadurlhttpblogparalerochallengepentruafiliatiaplicalanoileprogramedeafilieresifiibusinessboomerulluniiampnmampmbampbgaqoucqvqiaaabpugaaacsqarvgoqwqxjmpuyvkosfkqbvkfzejhncovckkxcbafzzpajibxwbvvqjrdgzqrinlwgabybxlfwmadkrjgzkryizwqdihxggetnddabfltfkbmbffcjixnthwbwkjnonlhdeveagphoewxogbnuibgtrkgnacqoibgmzgafnsclsariqjhqrtdwvbiykiyyublotdexvklnveadzzflxryqkewsuredljwgkflqqaldiwaznuysgqjnrdyvucklplzonyisdkcebxdbhjzdwlbsjbigxmdpkrhvxinqliwqbahszxmjhwvwrkpxfoeks': 1571, 'body': 349, 'rapid': 2622, 'httpsplaygooglecomstoreappsdetailsidcomrapidfacebookmagicdroid': 1467, 'sensejust': 2825, 'videoi': 3417, 'island': 1718, 'fit': 1092, 'situationbut': 2910, 'nvmthe': 2288, 'else': 898, 'mighty': 2098, 'parry': 2374, 'rock': 2743, 'total': 3275, 'httpswwwpaidvertscomreftomuciux': 1522, 'esyest': 948, 'team': 3174, 'official': 2301, 'httpyoutubecevxzvsjlk': 1597, 'httpshhortcomarxjgbrne': 1458, 'belly': 287, 'itsooooo': 1728, 'copy': 624, 'songstill': 2972, 'sooo': 2978, 'lmfao': 1933, 'httpsplusgooglecompostsgjvinpuemo': 1471, 'addict': 42, 'hook': 1409, 'dope': 817, 'fast': 1035, 'piss': 2439, 'toilet': 3263, 'quiet': 2575, 'track': 3283, 'sooooooooooooong': 2980, 'tattoo': 3167, 'tricep': 3300, 'glad': 1227, 'worry': 3599, 'eat': 872, 'rekt': 2672, 'mum': 2185, 'nite': 2254, 'cuz': 684, 'haterz': 1342, 'meh': 2067, 'lik': 1899, 'dis': 775, 'cri': 658, 'evertim': 960, 'sponswer': 3014, 'mi': 2091, 'robox': 2742, 'vidz': 3423, 'httpswwwindiegogocomprojectsgimmedemmoneyzrobloxxhome': 1516, 'eye': 1000, 'seem': 2812, 'title': 3258, 'lyrics': 2003, 'httpswwwindiegogocomprojectshelpstopmypovertycyberpanhandleingxhome': 1517, 'horrible': 1418, 'cringeworhty': 661, 'fashion': 1033, 'blog': 340, 'sinar': 2895, 'jahitan': 1740, 'collection': 549, 'tqvm': 3282, 'loves': 1977, 'appreciated': 170, 'trust': 3313, 'uranus': 3381, 'bless': 337, 'belarus': 281, 'freyacumqueen': 1149, 'subscriberscome': 3088, 'emas': 902, 'httptvmtvemacomartistskatyperryixh': 1541, 'honest': 1405, 'mediocre': 2060, 'nothing': 2273, 'memorable': 2074, 'billie': 314, 'jean': 1749, 'beat': 263, 'democracy': 742, 'express': 994, 'lie': 1891, 'buzz': 417, 'cece': 452, 'deadme': 716, 'work': 3593, 'night': 2246, 'streamer': 3062, 'spotify': 3018, 'allows': 97, 'file': 1076, 'offline': 2304, 'opening': 2332, 'beta': 297, 'httpsmegaconzehvjzkyabgkgiwphzohwaeuesrwnegqglabcorwwfxhao': 1459, 'male': 2023, 'companion': 574, 'profile': 2533, 'coolest': 620, 'sextoy': 2835, 'httpsmfacebookcomdreaddisrefmnotif': 1460, 'iftfbpagefaninviteampactorid': 1625, 'racist': 2609, 'borderland': 359, 'presequel': 2515, 'poster': 2498, 'httpswwwfacebookcomnyghdramafestphotosatypeamptheater': 1498, 'tonighttoday': 3268, 'yesterday': 3646, 'succumbs': 3101, 'hahaha': 1313, 'katyperryvevo': 1798, 'axeljonssons': 227, 'honestly': 1406, 'brave': 379, 'oh': 2307, 'wait': 3461, 'thisand': 3231, 'brought': 395, 'sprayon': 3022, 'tan': 3160, 'hairstylist': 1317, 'cameraman': 424, 'confirmed': 597, 'guitar': 1296, 'illegal': 1635, 'goodlooking': 1246, 'babe': 235, 'fill': 1078, 'choice': 505, 'happening': 1326, 'fool': 1111, 'foolish': 1112, 'arrogant': 181, 'obviously': 2293, 'idiot': 1620, 'garner': 1198, 'guess': 1294, 'trash': 3294, 'father': 1036, 'birtgday': 322, 'possible': 2494, 'gtgtjust': 1287, 'open': 2331, 'different': 770, 'tabs': 3154, 'browser': 396, 'gtgtdont': 1285, 'full': 1170, 'hand': 1323, 'wasting': 3484, 'color': 552, 'characterize': 479, 'release': 2675, 'midnight': 2096, 'celebrate': 454, 'realize': 2643, 'verse': 3406, 'exact': 972, 'ho': 1398, 'lumineers': 1991, 'httpgiphycomgifsbirthdayflowershappygwjyuqiaxkaqxsfullscreen': 1439, 'advertising': 59, 'sparks': 2998, 'taylor': 3170, 'swift': 3141, 'encourage': 916, 'wisdom': 3572, 'become': 271, 'wwwyouniqueproductscomjoannagordon': 3623, 'younique': 3657, 'joanna': 1759, 'gordon': 1257, 'wwwyouniqueproductscom': 3622, 'katheryns': 1791, 'katyand': 1795, 'sister': 2905, 'autotune': 210, 'tha': 3191, 'fack': 1011, 'nude': 2281, 'mayby': 2048, 'hooker': 1410, 'luckymusiqlive': 1989, 'drum': 846, 'et': 949, 'watchvnopovzoiqamplistuultucdihsdeibyowwuq': 3494, 'famous': 1024, 'happens': 1327, 'herself': 1372, 'medium': 2061, 'addfollow': 41, 'httptsucoroberts': 1540, 'relate': 2673, 'daughter': 710, 'cry': 669, 'depth': 747, 'dhg': 760, 'playlist': 2453, 'bunch': 407, 'nerdy': 2225, 'peach': 2399, 'absolute': 9, 'em': 899, 'hug': 1598, 'httpvimeocom': 1544, 'strength': 3064, 'meaning': 2053, 'httpminhatecacombrmaurospfilmesseriesdesenhosanimesmpetc': 1444, 'httpswwwfacebookcomantrobofficial': 1487, 'shakira': 2843, 'describe': 749, 'skyburst': 2920, 'light': 1897, 'cancer': 428, 'umichael': 3342, 'age': 73, 'everybody': 962, 'female': 1061, 'οh': 3700, 'vevo': 3410, 'justins': 1786, 'congrats': 600, 'applause': 165, 'httpssoundcloudcomjsuptfilsdusonfuckinghostile': 1475, 'httpswwwfacebookcommyfunnyriddles': 1496, 'httpswwwfacebookcomphotophpfbidampsetaamptypeamptheater': 1508, 'id': 1616, 'rather': 2631, 'propa': 2542, 'explicit': 990, 'gangsta': 1194, 'insted': 1691, 'damnnnnnnnn': 696, 'oo': 2329, 'moment': 2145, 'cheer': 490, 'boring': 362, 'asinine': 189, 'heard': 1354, 'coming': 565, 'teenage': 3178, 'perrys': 2415, 'divorce': 795, 'wave': 3504, 'successful': 3100, 'stick': 3050, 'silly': 2889, 'putty': 2565, 'rocks': 2746, 'wahoo': 3460, 'somehow': 2956, 'middle': 2095, 'woods': 3589, 'comprehend': 584, 'explains': 989, 'awful': 225, 'clue': 539, 'living': 1930, 'fairy': 1017, 'segue': 2813, 'ha': 1306, 'httpswwwfacebookcommarcossousafrefts': 1495, 'nature': 2214, 'tit': 3257, 'impress': 1652, 'roared': 2736, 'lion': 1918, 'youd': 3653, 'dede': 728, 'awesomeshe': 222, 'set': 2832, 'suppose': 3123, 'power': 2504, 'ballad': 242, 'uplift': 3374, 'motivate': 2167, 'however': 1430, 'final': 1080, 'chorus': 508, 'umph': 3344, 'instead': 1690, 'crescendo': 656, 'powerful': 2505, 'wavelength': 3506, 'fall': 1019, 'flat': 1095, 'championand': 465, 'creator': 654, 'positive': 2493, 'blessing': 338, 'heal': 1351, 'create': 652, 'success': 3098, 'nowplaying': 2278, 'weekendmix': 3517, 'dj': 798, 'denis': 744, 'shmelev': 2865, 'alex': 91, 'serov': 2829, 'wwwsmartfmnllivestreamhtml': 3619, 'artists': 185, 'httpwwwwattpadcomstoryshecanloveyougood': 1592, 'muchd': 2182, 'memorize': 2076, 'tend': 3181, 'skip': 2916, 'room': 2750, 'progressive': 2535, 'deep': 731, 'chillstep': 500, 'town': 3279, 'missouri': 2125, 'down': 822, 'critique': 663, 'satisfy': 2777, 'advertise': 55, 'pester': 2419, 'gimme': 1216, 'httpwwwnetworkedblogscompcpwbrefpanorama': 1577, 'subscribed': 3083, 'httpswwwtsucotomeks': 1529, 'mah': 2014, 'duh': 853, 'youtubefacebook': 3674, 'lhudygirlamaya': 1890, 'yall': 3634, 'kevin': 1803, 'hart': 1335, 'realkevinheart': 2644, 'don': 813, 'quality': 2569, 'anywhere': 157, 'possibly': 2496, 'others': 2346, 'httpsappsfacebookcommypollsutsitcompetitionfromuserlinkamprefidouxge': 1451, 'anand': 129, 'niketan': 2248, 'international': 1701, 'fredom': 1140, 'yours': 3661, 'poor': 2484, 'hii': 1382, 'dieroar': 768, 'floooooooooooooooooooop': 1100, 'grade': 1267, 'teacher': 3173, 'exactly': 973, 'curti': 680, 'httpswwwfacebookcomdemiilovatofasrefhl': 1488, 'httpswwwfacebookcompagesfrasessecretasrefhl': 1502, 'httpwwwermailpldolaczunnfyi': 1558, 'parody': 2373, 'wet': 3530, 'seal': 2800, 'username': 3387, 'destinyforever': 755, 'httpwwwwetsealcommodelsearchmodelsearchhtml': 1593, 'simply': 2893, 'customers': 681, 'youhttpswwwfacebookcomgreenleader': 3654, 'httpsbinboxiodnckmqtqjb': 1452, 'bil': 312, 'gs': 1280, 'soooooooooooooooooooooooooooooooooooooooo': 2982, 'xxx': 3630, 'décio': 863, 'cabelo': 419, 'decio': 726, 'years': 3642, 'homeless': 1403, 'alcoholic': 89, 'invisible': 1709, 'composer': 583, 'deciocabelo': 727, 'canal': 427, 'born': 363, 'except': 976, 'adele': 44, 'lile': 1911, 'modern': 2138, 'whenever': 3538, 'goosebump': 1255, 'lovely': 1973, 'pimpmyviews': 2437, 'iam': 1614, 'palastine': 2366, 'wheels': 3536, 'aslamu': 191, 'lykum': 1998, 'pakistan': 2364, 'eminem': 904, 'idol': 1622, 'españa': 943, 'mexico': 2089, 'latinoamerica': 1860, 'alright': 104, 'lady': 1844, 'john': 1763, 'rage': 2612, 'hes': 1373, 'smoking': 2942, 'lyrically': 2001, 'hotter': 1423, 'example': 974, 'abuse': 12, 'husband': 1607, 'definitely': 732, 'agree': 75, 'wellif': 3525, 'sayin': 2784, 'charlie': 482, 'lost': 1964, 'httpswwwfacebookcomgroups': 1493, 'beats': 267, 'together': 3262, 'unstoppable': 3365, 'rape': 2620, 'cheating': 487, 'basically': 254, 'though': 3236, 'mirror': 2121, 'harry': 1334, 'potter': 2502, 'deathly': 721, 'hallows': 1321, 'either': 892, 'sirius': 2904, 'quoti': 2590, 'youquot': 3658, 'httpsyoutubeyfuygkrc': 1533, 'musicim': 2192, 'spamming': 2995, 'load': 1941, 'across': 28, 'hyuck': 1612, 'whos': 3551, 'watching': 3488, 'australia': 206, 'bewatching': 303, 'favourite': 1044, 'gorgeous': 1259, 'passion': 2381, 'dysfunctional': 862, 'insanity': 1678, 'insane': 1676, 'noi': 2258, 'youtubechcfcvzfzfbvzdr': 3669, 'ryhme': 2761, 'canibus': 429, 'blow': 343, 'quadrillion': 2568, 'especially': 944, 'category': 446, 'intelligent': 1698, 'rapped': 2624, 'forgot': 1121, 'spit': 3008, 'rymeluv': 2762, 'ya': 3631, 'linz': 1917, 'personally': 2417, 'abusive': 14, 'relationship': 2674, 'counts': 635, 'drug': 844, 'jail': 1741, 'od': 2296, 'plese': 2467, 'aye': 230, 'homies': 1404, 'cent': 457, 'line': 1914, 'feed': 1053, 'mampm': 2025, 'youtubebut': 3667, 'rhinnah': 2714, 'clean': 528, 'youtubers': 3686, 'musician': 2191, 'quot': 2577, 'retards': 2706, 'goot': 1256, 'afraid': 64, 'skit': 2917, 'vine': 3430, 'computer': 585, 'tear': 3175, 'rihana': 2723, 'cheat': 486, 'megan': 2064, 'fox': 1131, 'hothot': 1422, 'better': 299, 'medication': 2059, 'wited': 3574, 'alfred': 92, 'sadly': 2764, 'hog': 1399, 'swamp': 3137, 'disorder': 789, 'sassy': 2776, 'mouse': 2169, 'flame': 1094, 'cheetos': 492, 'samurman': 2772, 'oreo': 2342, 'near': 2216, 'eminems': 906, 'actual': 35, 'untitled': 3368, 'cold': 546, 'wind': 3565, 'business': 411, 'wtp': 3614, 'apology': 160, 'toy': 3281, 'soldier': 2951, 'mosh': 2163, 'finally': 1081, 'sense': 2824, 'dante': 705, 'called': 421, 'riled': 2725, 'listeningstill': 1925, 'pleasure': 2466, 'password': 2383, 'facebookpasshackblogspotcom': 1008, 'working': 3594, 'software': 2950, 'hacking': 1309, 'detail': 756, 'past': 2384, 'dakoda': 693, 'bigelow': 309, 'gain': 1180, 'gone': 1241, 'deaf': 717, 'ginius': 1217, 'sttuupid': 3068, 'feels': 1056, 'emotion': 909, 'songgod': 2968, 'rant': 2618, 'vi': 3411, 'lovethewayyoulie': 1979, 'rapgod': 2621, 'nobody': 2257, 'press': 2516, 'quotthumbs': 2602, 'upquot': 3378, 'button': 415, 'youtu': 3663, 'bearkglzjqup': 261, 'fbtwitterg': 1047, 'awards': 215, 'method': 2087, 'roulette': 2754, 'shady': 2838, 'ems': 913, 'monster': 2152, 'watchvwgkmxnym': 3499, 'mmlp': 2133, 'ftw': 1161, 'igblastcom': 1627, 'imma': 1646, 'youtubecomwatchvasfnshghkampfeatureyoutube': 3672, 'supporter': 3122, 'hay': 1346, 'dakota': 694, 'subscribee': 3084, 'listencheck': 1922, 'andrew': 133, 'guasch': 1292, 'sick': 2885, 'flowim': 1102, 'dopethats': 818, 'aftermath': 70, 'tde': 3172, 'peace': 2397, 'driveshaft': 841, 'extraordinary': 998, 'firepacom': 1087, 'online': 2327, 'per': 2406, 'lake': 1845, 'chillpal': 499, 'sturdy': 3073, 'astauand': 195, 'johackle': 1762, 'chorenn': 507, 'ethosien': 951, 'changeable': 470, 'noxu': 2279, 'ploosnar': 2470, 'looplab': 1957, 'hoppler': 1416, 'delicious': 739, 'false': 1020, 'scitenoa': 2794, 'locobot': 1942, 'heartbreaking': 1357, 'thirsty': 3229, 'reminiscent': 2683, 'busyglide': 412, 'sasaroo': 2775, 'sore': 2985, 'axiomatic': 228, 'naperone': 2210, 'mere': 2082, 'undesirable': 3355, 'agreeable': 76, 'encouraging': 917, 'imperfect': 1648, 'roasted': 2738, 'insidious': 1681, 'modgone': 2140, 'quickest': 2573, 'trelod': 3297, 'keen': 1800, 'fresh': 1148, 'economic': 876, 'bocilile': 348, 'females': 1062, 'moneygqcom': 2148, 'victorious': 3413, 'luxuriant': 1995, 'responsible': 2703, 'unbiased': 3346, 'yoffa': 3651, 'ociramma': 2294, 'handsome': 1324, 'arrowgance': 182, 'mizuxe': 2131, 'boaconic': 347, 'sophisticated': 2984, 'illfated': 1636, 'spourmo': 3020, 'chubby': 516, 'hioffpo': 1385, 'probable': 2525, 'singlewave': 2902, 'trop': 3308, 'fort': 1124, 'votre': 3451, 'waratel': 3474, 'misty': 2126, 'exciting': 978, 'swoquix': 3146, 'acaer': 16, 'tupacase': 3325, 'lively': 1929, 'idiotic': 1621, 'bored': 361, 'ablaze': 2, 'crabby': 643, 'aloidia': 100, 'cheilith': 493, 'feandra': 1049, 'ignorant': 1628, 'wavefire': 3505, 'reiltas': 2670, 'skizzle': 2918, 'jovaphile': 1771, 'swooflia': 3145, 'grynn': 1279, 'excellent': 975, 'slimy': 2929, 'gabby': 1178, 'nalpure': 2207, 'lucky': 1988, 'glozzom': 1230, 'depressed': 746, 'sinpad': 2903, 'stereotyped': 3047, 'toximble': 3280, 'belle': 286, 'chanson': 477, 'krean': 1837, 'magnificent': 2013, 'noodile': 2265, 'unequaled': 3357, 'moderock': 2139, 'gogopo': 1237, 'lulerain': 1990, 'olielle': 2317, 'zesty': 3696, 'laughable': 1862, 'accidental': 20, 'pepelexa': 2405, 'delightful': 740, 'wiry': 3571, 'toogit': 3271, 'uncovered': 3348, 'chesture': 494, 'woozy': 3591, 'adhoc': 46, 'weak': 3511, 'shallow': 2849, 'performance': 2409, 'acceptance': 17, 'speech': 3002, 'watchvarkglzjqup': 3490, 'ytma': 3691, 'paragraph': 2370, 'quotfirequot': 2585, 'httpwwwyoutubecomuserjlimvuth': 1594, 'ferirama': 1064, 'besloor': 294, 'shame': 2850, 'eggmode': 887, 'wazzasoft': 3509, 'plifal': 2468, 'shorogyt': 2869, 'value': 3396, 'scale': 2788, 'qerrassa': 2566, 'qiameth': 2567, 'mogotrevo': 2141, 'parede': 2372, 'yboiveth': 3636, 'drirathiel': 839, 'industry': 1670, 'sertave': 2830, 'tendency': 3182, 'humor': 1604, 'unelind': 3356, 'operation': 2335, 'oleald': 2316, 'claster': 527, 'nation': 2212, 'roll': 2747, 'fuffapster': 1168, 'gu': 1290, 'tower': 3278, 'quoteminem': 2583, 'yearquot': 3641, 'five': 1093, 'convey': 616, 'domestic': 811, 'violence': 3431, 'fictional': 1069, 'exist': 981, 'chooses': 506, 'sexual': 2836, 'ad': 37, 'fgw': 1067, 'metal': 2086, 'drew': 836, 'reflective': 2664, 'effect': 884, 'expansion': 983, 'intervene': 1703, 'hilarious': 1383, 'sneeze': 2944, 'witness': 3579, 'smoke': 2941, 'innocent': 1675, 'prioritize': 2522, 'desire': 754, 'flight': 1097, 'polish': 2483, 'tax': 3168, 'zip': 3697, 'omniscient': 2320, 'eminmem': 908, 'wife': 3558, 'beating': 266, 'bastard': 257, 'micheal': 2094, 'class': 525, 'fame': 1021, 'authenticviewscom': 207, 'spousal': 3021, 'abusue': 15, 'foxbecause': 1132, 'similar': 2891, 'nicei': 2240, 'flimsy': 1098, 'slip': 2930, 'facilitate': 1010, 'manager': 2028, 'noise': 2259, 'anxious': 150, 'loss': 1963, 'retrieve': 2707, 'wood': 3588, 'photograph': 2427, 'husky': 1608, 'breath': 384, 'retain': 2705, 'system': 3152, 'rhythm': 2716, 'fabricates': 1004, 'scintillate': 2793, 'harbor': 1330, 'cook': 618, 'officiates': 2303, 'walk': 3465, 'judge': 1773, 'ink': 1674, 'valuable': 3395, 'increase': 1665, 'cudi': 673, 'watchvxytcqnzmua': 3500, 'annoys': 146, 'latest': 1859, 'cope': 623, 'picked': 2430, 'pen': 2401, 'paper': 2369, 'commit': 571, 'suicide': 3108, 'several': 2833, 'professionally': 2531, 'produce': 2529, 'george': 1207, 'inspiration': 1683, 'thou': 3235, 'mockingbird': 2136, 'rhianna': 2713, 'insperasen': 1682, 'fav': 1038, 'eeeveryone': 883, 'dundundunnn': 855, 'collaboration': 547, 'zonepacom': 3699, 'answer': 148, 'rehabilitate': 2669, 'blushing': 345, 'depreciateds': 745, 'steel': 3042, 'selection': 2815, 'edit': 879, 'range': 2617, 'disclose': 779, 'macho': 2008, 'lift': 1896, 'letter': 1887, 'frame': 1135, 'thunder': 3246, 'prevent': 2518, 'conscious': 605, 'activates': 30, 'distribution': 792, 'normal': 2266, 'synthesizes': 3151, 'plant': 2446, 'entertains': 934, 'mail': 2018, 'hermann': 1369, 'buchmair': 400, 'realtionship': 2646, 'deserves': 752, 'wish': 3573, 'protective': 2546, 'geeze': 1202, 'quotdeazyquot': 2581, 'might': 2097, 'truethank': 3310, 'forever': 1118, 'riri': 2728, 'ignore': 1629, 'yuliya': 3692, 'serious': 2827, 'september': 2826, 'thumbs': 3244, 'swear': 3138, 'hurt': 1606, 'inside': 1680, 'sneakiestg': 2943, 'hood': 1408, 'muzik': 2200, 'subcribe': 3078, 'fantasy': 1030, 'thefantasy': 3207, 'war': 3473, 'illustrate': 1639, 'exclusive': 979, 'mountain': 2168, 'refers': 2663, 'helpless': 1364, 'loud': 1967, 'authority': 208, 'improves': 1655, 'canvas': 431, 'repair': 2690, 'uppity': 3377, 'substantial': 3094, 'derives': 748, 'burst': 410, 'render': 2688, 'symptomatic': 3148, 'bite': 329, 'brief': 385, 'narrow': 2211, 'eager': 864, 'sky': 2919, 'transmit': 3292, 'crush': 668, 'mammoth': 2024, 'shock': 2866, 'reduce': 2661, 'delicate': 738, 'meaty': 2057, 'adapt': 39, 'oil': 2309, 'already': 103, 'jam': 1742, 'wtf': 3613, 'thanx': 3202, 'kill': 1812, 'girlfriend': 1221, 'tube': 3322, 'keithlinscotts': 1802, 'mummy': 2186, 'smack': 2934, 'heroin': 1371, 'fruits': 1158, 'vegetable': 3401, 'longer': 1947, 'energy': 919, 'weight': 3519, 'youtubecomuserloseweight': 3671, 'gorg': 1258, 'truly': 3311, 'vincent': 3429, 'less': 1884, 'survival': 3129, 'texas': 3189, 'quotpmwquot': 2597, 'disappoint': 777, 'therealchrisking': 3215, 'quotmemory': 2594, 'lanequot': 1851, 'rd': 2634, 'quotcrown': 2579, 'mequot': 2079, 'catch': 444, 'penny': 2403, 'leandrus': 1873, 'playtime': 2455, 'awesoooome': 223, 'kpopcitynet': 1836, 'large': 1855, 'discount': 780, 'store': 3056, 'quothollywood': 2588, 'collectionquot': 550, 'star': 3032, 'phenomenallyricshere': 2423, 'emi': 903, 'nem': 2222, 'fans': 1028, 'thisthe': 3232, 'skylarworks': 2921, 'tygas': 3338, 'molly': 2142, 'whiz': 3546, 'khalifa': 1806, 'writingrecordingmixingperforming': 3611, 'bar': 249, 'build': 404, 'base': 252, 'improvehelp': 1654, 'closer': 535, 'lyrical': 2000, 'commment': 572, 'adult': 53, 'basketball': 255, 'player': 2450, 'crazycelebnewseupn': 650, 'plzz': 2475, 'spent': 3005, 'srilanka': 3029, 'rate': 2630, 'heshe': 1374, 'lv': 1997, 'onece': 2325, 'started': 3036, 'rapping': 2629, 'aswell': 196, 'pun': 2557, 'beware': 302, 'likes': 1908, 'moon': 2158, 'azerbaijan': 232, 'warning': 3478, 'lneadwbfstvhkjlpxaeyvmnlvmriudtsfkvyali': 1936, 'pašatcroatia': 2392, 'lneadwbfvkahxpkenmfywkyxthsuprijuqsznug': 1940, 'belrustnice': 289, 'lneadwbftvzqtjuehasiefrjgexidvqdnqvphoexode': 1938, 'comebacktm': 559, 'lneadwbfunoaragawgutjoazdkfiuntzhymuhammad': 1939, 'shaeel': 2839, 'abbastfuck': 1, 'lneadwbftotoufjzvfflfnaxykwzsivqhimxenotorious': 1937, 'nikothey': 2252, 'belgium': 282, 'speaks': 3000, 'resort': 2699, 'audio': 201, 'invest': 1706, 'equipment': 941, 'yourself': 3662, 'response': 2702, 'notorious': 2276, 'niko': 2250, 'eminemlt': 905, 'everlt': 959, 'short': 2870, 'weekend': 3516, 'songvideo': 2973, 'trigger': 3303, 'meghan': 2065, 'ayyy': 231, 'juss': 1780, 'tryna': 3317, 'chrck': 510, 'songcongratulations': 2965, 'quotlove': 2593, 'jemini': 1753, 'adam': 38, 'watchvtugnl': 3497, 'charlieee': 483, 'dddd': 713, 'ladies': 1843, 'gtgt': 1284, 'underground': 3351, 'pussy': 2563, 'ohand': 2308, 'warn': 3477, 'overlol': 2357, 'coffee': 545, 'lovers': 1976, 'lovatype': 1970, 'lova': 1969, 'spell': 3003, 'enterthen': 935, 'blast': 335, 'writeperformrecordmixeditpost': 3609, 'barsto': 251, 'journeywatch': 1770, 'dreamhelp': 832, 'basethanks': 253, 'getting': 1210, 'moly': 2143, 'liers': 1892, 'treating': 3296, 'bulgaria': 405, 'killtheclockhd': 1813, 'original': 2344, 'quotyour': 2608, 'disguisequot': 784, 'hiphop': 1387, 'sooooooooooooooo': 2981, 'gameplay': 1183, 'watchvhmsayho': 3493, 'cypher': 685, 'recently': 2652, 'album': 88, 'ep': 938, 'subscription': 3093, 'cyphers': 686, 'mindcould': 2114, 'musicwe': 2195, 'songsearch': 2971, 'dna': 800, 'guaschi': 1293, 'barspart': 250, 'songeveryday': 2966, 'journey': 1769, 'mes': 2083, 'favour': 1043, 'drop': 843, 'told': 3264, 'potential': 2501, 'student': 3070, 'foward': 1130, 'dragons': 826, 'lana': 1848, 'del': 736, 'rey': 2712, 'drake': 828, 'macklemore': 2009, 'pink': 2438, 'countless': 633, 'fyi': 1177, 'freedom': 1142, 'br': 374, 'rt': 2756, 'httpowlyzmef': 1446, 'aspire': 192, 'looooved': 1956, 'advertisement': 56, 'prove': 2549, 'helpful': 1363, 'quotwe': 2605, 'master': 2042, 'itquot': 1725, 'okay': 2311, 'favor': 1041, 'columbus': 555, 'nelson': 2221, 'spammer': 2994, 'watchvyuttxoyqq': 3501, 'lies': 1893, 'lil': 1910, 'mmph': 2134, 'terrance': 3184, 'serve': 2831, 'quotlike': 2592, 'quotsubscribequot': 2599, 'tvcmcadavidweebly': 3331, 'opportunity': 2339, 'duo': 857, 'freestyle': 1143, 'likecomment': 1903, 'rhyme': 2715, 'pointer': 2481, 'hottest': 1424, 'hairstyle': 1316, 'trend': 3298, 'upgrade': 3372, 'sens': 2823, 'level': 1888, 'googlbxrosr': 1248, 'bangladesh': 248, 'quotfeelin': 2584, 'goodquot': 1247, 'jdp': 1748, 'quotghostpoetquot': 2586, 'upcoming': 3370, 'haters': 1341, 'ii': 1630, 'nicer': 2242, 'quotcruz': 2580, 'supatquot': 3114, 'djj': 799, 'road': 2734, 'recovery': 2658, 'date': 708, 'bbut': 258, 'claire': 523, 'swag': 3135, 'uploaded': 3376, 'professor': 2532, 'lemme': 1882, 'berzerk': 293, 'earns': 867, 'wwhore': 3617, 'wage': 3458, 'pc': 2393, 'survey': 3128, 'shitjust': 2862, 'yahoo': 3633, 'legit': 1880, 'msg': 2177, 'thru': 3242, 'vulnerable': 3455, 'mê': 2204, 'recentley': 2651, 'surpass': 3127, 'justing': 1785, 'watchvbwywphic': 3491, 'watchvaimbwbfqbzg': 3489, 'subscrible': 3092, 'honesty': 1407, 'wright': 3607, 'sometime': 2959, 'breaken': 383, 'cazzy': 449, 'rule': 2758, 'luck': 1986, 'lovet': 1978, 'btw': 399, 'skill': 2912, 'current': 677, 'usually': 3390, 'mile': 2100, 'somewhere': 2961, 'nothingplease': 2274, 'dreams': 834, 'boys': 373, 'annoy': 143, 'spammed': 2993, 'lover': 1975, 'critisism': 664, 'supper': 3120, 'musicbut': 2190, 'quotso': 2598, 'lunden': 1992, 'lyricism': 2002, 'dongs': 815, 'nirvanatrust': 2253, 'eminen': 907, 'media': 2058, 'evil': 970, 'farrell': 1032, 'report': 2695, 'net': 2227, 'police': 2482, 'intelligence': 1697, 'analyst': 128, 'whistleblower': 3543, 'tony': 3269, 'expose': 992, 'horrific': 1419, 'monstrous': 2153, 'coverup': 642, 'perpetrate': 2413, 'criminal': 660, 'operating': 2334, 'crime': 659, 'mainstream': 2019, 'entertainment': 933, 'law': 1867, 'firm': 1089, 'protect': 2545, 'devil': 758, 'brutally': 397, 'target': 3164, 'londons': 1945, 'attack': 198, 'column': 556, 'st': 3030, 'january': 1743, 'touch': 3277, 'mic': 2092, 'thailand': 3192, 'classsic': 526, 'spare': 2997, 'rapperplease': 2626, 'wastin': 3483, 'charley': 481, 'watchvnxkihkds': 3495, 'mcashim': 2050, 'brazil': 380, 'aware': 216, 'sean': 2801, 'kingston': 1819, 'inbox': 1658, 'channelsounds': 474, 'fair': 1015, 'health': 1352, 'scare': 2790, 'thankfully': 3196, 'wasn': 3480, 'mission': 2123, 've': 3400, 'accomplish': 21, 'bore': 360, 'red': 2659, 'replay': 2693, 'worldcup': 3596, 'guruofmovie': 1298, 'waka': 3462, 'wery': 3528, 'iniestas': 1673, 'netherlands': 2229, 'whose': 3552, 'thumsb': 3245, 'axy': 229, 'blonde': 342, 'racists': 2610, 'times': 3254, 'itttttttt': 1730, 'wurkkkkkkkkkkkkkkkkkkkkkkkkkkkkkkkkkkkkkkkkkkkkkkkkkkkkkkkkkkkkkkkkkkkkkkkkkkkkkkkkkkkkkkkkkkkkkkkkkkkkk': 3615, 'wooooo': 3590, 'amendment': 116, 'privacy': 2523, 'nsa': 2280, 'spy': 3026, 'americans': 119, 'un': 3345, 'patriot': 2387, 'renewal': 2689, 'rand': 2614, 'paul': 2388, 'senate': 2819, 'floor': 1101, 'protest': 2547, 'filibuster': 1077, 'constitution': 608, 'dot': 820, 'cares': 440, 'email': 901, 'senators': 2821, 'congress': 601, 'senator': 2820, 'saturday': 2778, 'morning': 2161, 'postpone': 2500, 'week': 3515, 'matters': 2045, 'itht': 1724, 'fright': 1154, 'entertainer': 931, 'soccer': 2946, 'cd': 450, 'couch': 627, 'fave': 1039, 'felt': 1060, 'madly': 2011, 'totally': 3276, 'goood': 1252, 'fifa': 1072, 'vídeo': 3456, 'coby': 542, 'usl': 3389, 'httpadfly': 1432, 'hmvtx': 1397, 'ilovethissong': 1641, 'lamest': 1847, 'africa': 65, 'aid': 80, 'charity': 480, 'proud': 2548, 'ricky': 2719, 'sam': 2769, 'billiom': 315, 'decide': 724, 'shakifans': 2842, 'ilove': 1640, 'uncle': 3347, 'curly': 676, 'blank': 334, 'mio': 2120, 'muchshakira': 2183, 'definitley': 734, 'gypsy': 1305, 'shakiravevo': 2846, 'torunament': 3274, 'nummber': 2285, 'patrik': 2386, 'kluivert': 1823, 'ampi': 123, 'shakiralt': 2844, 'yea': 3638, 'stil': 3051, 'wk': 3580, 'recording': 2657, 'goals': 1234, 'wil': 3560, 'wanderfol': 3468, 'miusic': 2127, 'pleasant': 2461, 'eh': 889, 'cutie': 683, 'shkira': 2864, 'promotes': 2541, 'terrorism': 3186, 'lip': 1919, 'synch': 3149, 'languages': 1853, 'gusttavo': 1300, 'lima': 1912, 'você': 3446, 'não': 2289, 'conhece': 602, 'offical': 2300, 'shakiras': 2845, 'dark': 706, 'horse': 1420, 'ahead': 78, 'roughly': 2753, 'httpswwwyoutubecomwatchvprpeedmmmq': 1531, 'underrated': 3352, 'meaningful': 2054, 'vibe': 3412, 'expect': 984, 'instantly': 1689, 'faves': 1040, 'brazilian': 381, 'shaki': 2841, 'sooooo': 2979, 'autotuned': 211, 'lisening': 1920, 'shakiria': 2847, 'aunt': 204, 'empire': 911, 'youtubecentral': 3668, 'dedication': 730, 'believer': 284, 'loyal': 1982, 'reads': 2640, 'doing': 808, 'pleas': 2460, 'gamezzmta': 1187, 'gamezz': 1186, 'mta': 2178, 'traffic': 3285, 'petition': 2421, 'httpwwwthepetitionsitecomstopanimaltraffickingcidheaderclick': 1585, 'cap': 432, 'ej': 893, 'ba': 233, 'dancing': 701, 'hopme': 1414, 'httpswwwpaidvertscomrefsihaam': 1521, 'spanish': 2996, 'brake': 377, 'pleassssssssssssssss': 2465, 'subscribeeeeeeeeee': 3085, 'channnnnnelll': 476, 'httpswwwpaidvertscomrefmarius': 1520, 'income': 1663, 'financial': 1082, 'risk': 2730, 'acquire': 27, 'bonus': 352, 'technique': 3177, 'wager': 3459, 'bookmaker': 356, 'bet': 296, 'betfair': 298, 'secure': 2810, 'chap': 478, 'jim': 1757, 'vanstone': 3399, 'secrets': 2808, 'quid': 2574, 'thus': 3247, 'costfree': 626, 'bookie': 355, 'obtain': 2292, 'consumer': 611, 'compare': 576, 'adore': 50, 'claim': 522, 'lad': 1841, 'select': 2814, 'assume': 194, 'succeed': 3096, 'dribbleproshot': 837, 'significantly': 2887, 'boost': 358, 'aka': 86, 'nick': 2243, 'playerhis': 2451, 'mate': 2043, 'definitily': 733, 'quotdribbleproshotquot': 2582, 'useful': 3385, 'demonstrate': 743, 'enormously': 927, 'transform': 3289, 'fausto': 1037, 'substantially': 3095, 'footballsoccer': 1116, 'playerto': 2452, 'amazement': 111, 'hopefully': 1413, 'kpop': 1835, 'voucher': 3452, 'cardsxbox': 437, 'duzafizz': 860, 'burder': 408, 'colorful': 553, 'incandescent': 1659, 'ambitious': 115, 'winooze': 3569, 'absorbing': 11, 'macabre': 2006, 'crestboot': 657, 'boxium': 369, 'womanly': 3584, 'ybuwyn': 3637, 'forgetful': 1120, 'zealous': 3694, 'wakad': 3463, 'halloween': 1320, 'dreamer': 831, 'ourself': 2351, 'thankss': 3200, 'wilsubscribe': 3563, 'frndzzl': 1155, 'fragile': 1134, 'swim': 3142, 'enlist': 926, 'audit': 202, 'frequent': 1147, 'describes': 750, 'requite': 2697, 'mess': 2084, 'upto': 3379, 'netjobscom': 2230, 'comfort': 562, 'currently': 678, 'hiring': 1389, 'wide': 3555, 'jobs': 1761, 'sites': 2909, 'facebooktwitter': 1009, 'prior': 2521, 'skills': 2913, 'experience': 987, 'immediately': 1647, 'monthly': 2157, 'statement': 3037, 'conciliate': 592, 'acidic': 25, 'stretch': 3065, 'recognizes': 2654, 'numberless': 2284, 'transport': 3293, 'trade': 3284, 'ww': 3616, 'estiloproduction': 946, 'galaxy': 1181, 'mini': 2117, 'ipad': 1712, 'hhnl': 1376, 'being': 280, 'respond': 2701, 'enable': 915, 'buck': 401, 'bitlybsefqe': 330, 'guysi': 1303, 'houronly': 1426, 'meat': 2056, 'discus': 783, 'peaceful': 2398, 'unit': 3360, 'arbitrate': 174, 'guide': 1295, 'addition': 43, 'worried': 3598, 'approve': 172, 'insurance': 1694, 'appoints': 168, 'prepare': 2513, 'historical': 1391, 'plausible': 2448, 'summer': 3110, 'submits': 3079, 'behavior': 276, 'grass': 1268, 'seat': 2803, 'strategizes': 3059, 'edge': 878, 'oldchattk': 2314, 'anderson': 132, 'harder': 1333, 'quotyeahquot': 2607, 'thatd': 3204, 'itd': 1722, 'daneja': 702, 'suscribite': 3133, 'de': 715, 'whatuknow': 3535, 'british': 389, 'foot': 1114, 'rugby': 2757, 'euw': 953, 'germany': 1208, 'netherland': 2228, 'france': 1136, 'portugal': 2492, 'spain': 2991, 'britishs': 390, 'refuse': 2665, 'euro': 952, 'beutiful': 301, 'eva': 954, 'jesus': 1756, 'christ': 512, 'savior': 2781, 'sin': 2894, 'heaven': 1358, 'save': 2779, 'salvation': 2768, 'righteousness': 2722, 'present': 2514, 'perhaps': 2411, 'cock': 543, 'celebrity': 456, 'beneath': 290, 'mileysecretvideocouk': 2103, 'leech': 1878, 'porno': 2491, 'celeb': 453, 'mileycelebnewscouk': 2102, 'tape': 3163, 'banging': 247, 'under': 3350, 'dreaming': 833, 'piano': 2428, 'step': 3043, 'forward': 1126, 'echa': 875, 'vistazo': 3441, 'remezcla': 2680, 'wrecking': 3606, 'ball': 241, 'enlace': 924, 'suscríbase': 3134, 'musicvideo': 2194, 'lifes': 1895, 'celebration': 455, 'watchvdtqcftrfac': 3492, 'justien': 1783, 'likeampsubscribe': 1902, 'wellcomemdblogfacom': 3524, 'ｈｔｔｐｗｗｗｅｂａｙｃｏｍｕｓｒｓｈｏｅｃｏｌｌｅｃｔｏｒ': 3706, 'ouf': 2348, 'ouffffffffffffffffff': 2349, 'goose': 1254, 'bump': 406, 'recommend': 2655, 'apple': 166, 'gen': 1203, 'gb': 1201, 'unlocked': 3363, 'wifig': 3559, 'price': 2519, 'samsung': 2771, 'iv': 1734, 'sony': 2975, 'led': 1877, 'hdtv': 1347, 'allinone': 95, 'pcs': 2395, 'macbook': 2007, 'pro': 2524, 'air': 83, 'nikon': 2251, 'slr': 2931, 'mm': 2132, 'ultrabooks': 3341, 'vaio': 3394, 'intel': 1696, 'core': 625, 'purchase': 2558, 'taaeecom': 3153, 'quothelp': 2587, 'wholehearted': 3549, 'quotnoquot': 2595, 'discrimination': 782, 'united': 3361, 'impossible': 1651, 'itself': 1727, 'says': 2786, 'possiblequot': 2495, 'winners': 3568, 'successcheers': 3099, 'loving': 1980, 'brothers': 394, 'sisters': 2906, 'tinyurldotcomslashmxhy': 3255, 'none': 2263, 'comforter': 563, 'afflict': 62, 'christians': 514, 'angels': 136, 'patriarchs': 2385, 'prophets': 2543, 'apostles': 161, 'martyrs': 2040, 'confessors': 594, 'virgins': 3436, 'saints': 2765, 'conceive': 590, 'rosary': 2752, 'mary': 2041, 'virgin': 3435, 'divine': 794, 'grace': 1265, 'pure': 2559, 'chaste': 484, 'inviolate': 1708, 'undefiled': 3349, 'amiable': 120, 'admirable': 47, 'counsel': 631, 'redeemer': 2660, 'affiliate': 61, 'enjoyable': 923, 'contact': 612, 'neeru': 2219, 'gmailcom': 1231, 'advertisiments': 58, 'rappersinger': 2627, 'estonia': 947, 'wafence': 3457, 'apprecitate': 171, 'ways': 3508, 'nlmemakemoneywithoutinvestment': 2255, 'richest': 2718, 'marketer': 2036, 'bitlymakemoneywithoutadroid': 332, 'dickwad': 763, 'colour': 554, 'skin': 2914, 'ancestor': 130, 'baba': 234, 'brinkman': 388, 'quotim': 2591, 'africanquot': 67, 'muslim': 2197, 'egoistic': 888, 'terrorist': 3187, 'wats': 3503, 'ik': 1632, 'amy': 124, 'northland': 2268, 'paranormal': 2371, 'society': 2948, 'evidence': 969, 'pas': 2379, 'instrumental': 1692, 'songwriter': 2974, 'mississippi': 2124, 'highly': 1381, 'whitney': 3545, 'investmentjust': 1707, 'thergloveblogspotinblogposthtml': 3221, 'bitlygkvdo': 331, 'kodaline': 1829, 'dragonsand': 827, 'adfly': 45, 'kldy': 1822, 'irish': 1714, 'aviciis': 213, 'quotwake': 2604, 'fiddle': 1070, 'sillyquot': 2890, 'animator': 141, 'pagee': 2361, 'versace': 3405, 'cge': 460, 'quotversace': 2603, 'moneyquot': 2149, 'jawan': 1745, 'gardner': 1197, 'comedy': 560, 'recipe': 2653, 'prank': 2509, 'crank': 645, 'nicely': 2241, 'lame': 1846, 'swagfriends': 3136, 'movement': 2171, 'partyman': 2378, 'fr': 1133, 'tunez': 3324, 'hicheck': 1378, 'forty': 1125, 'famine': 1023, 'food': 1110, 'raise': 2613, 'luxury': 1996, 'itt': 1729, 'ppl': 2506, 'intention': 1699, 'annoyed': 144, 'writer': 3610, 'eight': 891, 'importantly': 1650, 'focus': 1105, 'send': 2822, 'justice': 1782, 'steven': 3048, 'reed': 2662, 'lands': 1850, 'supreme': 3124, 'courtthanks': 638, 'johnny': 1764, 'continue': 615, 'musiclyrics': 2193, 'keyboard': 1804, 'manband': 2029, 'independent': 1669, 'listenersupported': 1923, 'willing': 3562, 'namepicture': 2209, 'alvar': 107, 'quotthis': 2601, 'africaquot': 68, 'trayvon': 3295, 'motherland': 2166, 'thankyou': 3201, 'convince': 617, 'perform': 2408, 'form': 1122, 'leisure': 1881, 'cease': 451, 'revel': 2709, 'murder': 2187, 'plot': 2471, 'neighbor': 2220, 'abomination': 5, 'clap': 524, 'wickedness': 3554, 'openly': 2333, 'street': 3063, 'perverse': 2418, 'abominable': 4, 'generation': 1205, 'shall': 2848, 'repay': 2692, 'lord': 1960, 'trumpetcallofgodonline': 3312, 'co': 541, 'chill': 498, 'hearing': 1355, 'mixtapecheck': 2130, 'camp': 425, 'wiredo': 3570, 'dancer': 699, 'wierd': 3556, 'giraffe': 1218, 'elongate': 897, 'spinal': 3006, 'pigment': 2434, 'root': 2751, 'giraffebruuh': 1219, 'rocklolwho': 2745, 'shuffle': 2879, 'awsome': 226, 'increible': 1667, 'likeee': 1905, 'musique': 2196, 'wowwwwwwwwwwwwwwwwwwwwwwwwwwwwww': 3605, 'increidebl': 1668, 'superr': 3118, 'llikee': 1931, 'mil': 2099, 'tango': 3161, 'switch': 3144, 'fairrrrrrr': 1016, 'anthem': 149, 'lauren': 1866, 'bennett': 292, 'goo': 1243, 'httpsyoutubekqzrkcpj': 1532, 'box': 368, 'moves': 2172, 'makes': 2021, 'hire': 1388, 'mahogany': 2015, 'lmao': 1932, 'loveparty': 1974, 'stopis': 3055, 'fuckin': 1165, 'earthquake': 869, 'nepal': 2224, 'fucking': 1166, 'dudes': 850, 'faded': 1013, 'ah': 77, 'remeber': 2678, 'ol': 2312, 'werent': 3527, 'butt': 414, 'hero': 1370, 'theyre': 3224, 'rockin': 2744, 'likeeee': 1906, 'robot': 2741, 'bi': 305, 'career': 439, 'downs': 825, 'tension': 3183, 'likkee': 1909, 'mindblowing': 2113, 'dancesuperbbb': 700, 'theme': 3210, 'insult': 1693, 'strong': 3066, 'shufflin': 2880, 'soooooooooooooooooooooooooooooooooooooooooooooooooo': 2983, 'doe': 803, 'vanoss': 3398, 'everywhere': 968, 'fu': 1162, 'cking': 521, 'awesom': 219, 'image': 1644, 'thingie': 3226, 'exists': 982, 'shrek': 2878, 'robo': 2740, 'insanely': 1677, 'literally': 1926, 'housee': 1428, 'tonight': 3267, 'lovee': 1972, 'nikki': 2249, 'minaj': 2111, 'anaconda': 127, 'jesses': 1755, 'dang': 703, 'dat': 707, 'gat': 1199, 'bone': 351, 'dose': 819, 'golden': 1240, 'cooooooooooooolllllllllll': 622, 'curse': 679, 'maylaysia': 2049, 'airline': 84, 'fefefefefegelein': 1058, 'shuffling': 2881, 'watchin': 3487, 'laughing': 1863, 'ass': 193, 'kidding': 1808, 'due': 851, 'duel': 852, 'front': 1157, 'spongebob': 3012, 'goonrock': 1251, 'laura': 1865, 'jacket': 1737, 'sleeve': 2927, 'sleeveless': 2928, 'arm': 179, 'youtub': 3664, 'steps': 3045, 'flies': 1096, 'commentsoh': 569, 'lanta': 1854, 'df': 759, 'socool': 2949, 'coolwhy': 621, 'havent': 1345, 'brah': 375, 'illness': 1637, 'spreading': 3025, 'en': 914, 'gooooood': 1253, 'likeeeeeeeee': 1907, 'thoughts': 3238, 'plzzzzzzz': 2477, 'plzzzzzzzzzzzzzzzzzzzzzzzzzzzzzzz': 2478, 'collaborator': 548, 'lmfaois': 1934, 'reunion': 2708, 'june': 1776, 'expo': 991, 'idaho': 1617, 'garden': 1196, 'performe': 2410, 'conference': 593, 'question': 2571, 'yes': 3645, 'iiiiiiiiiii': 1631, 'unlike': 3362, 'brooooo': 392, 'youtubem': 3681, 'plays': 2454, 'youtubefb': 3675, 'outs': 2354, 'friends': 1152, 'decided': 725, 'certification': 459, 'educated': 882, 'field': 1071, 'rich': 2717, 'entertainers': 932, 'consolidating': 607, 'actors': 33, 'actresses': 34, 'singers': 2899, 'profits': 2534, 'youtubeי': 3687, 'melhor': 2071, 'se': 2799, 'inscreva': 1679, 'meu': 2088, 'por': 2490, 'obrigado': 2290, 'mejor': 2069, 'si': 2884, 'suscriba': 3131, 'gracias': 1266, 'meilleur': 2068, 'vidéo': 3424, 'vous': 3453, 'abonner': 6, 'ma': 2004, 'chaîne': 485, 'plaît': 2456, 'merci': 2080, 'chanell': 468, 'channelthanks': 475, 'remixer': 2685, 'melbourne': 2070, 'youtubea': 3666, 'bang': 245, 'spooked': 3015, 'spookinati': 3016, 'unspooked': 3364, 'lmfaovevo': 1935, 'cheers': 491, 'everydayimvaping': 964, 'tried': 3301, 'supermariologan': 3117, 'thot': 3234, 'los': 1961, 'invito': 1711, 'subscribirse': 3091, 'youtubeopponents': 3682, 'dive': 793, 'doctor': 802, 'httpsmfreemyappscomshareurlb': 1464, 'subscribesoon': 3090, 'nut': 2286, 'shell': 2856, 'club': 538, 'advertisements': 57, 'christianity': 513, 'arguements': 177, 'religious': 2677, 'console': 606, 'pcmasterace': 2394, 'trolls': 3307, 'quothow': 2589, 'complaints': 580, 'pewdiepie': 2422, 'fangirls': 1027, 'scrub': 2798, 'rmontageparodies': 2731, 'russia': 2760, 'kinglothedancer': 1818, 'naive': 2206, 'respect': 2700, 'fulfil': 1169, 'drama': 829, 'fee': 1052, 'mgtow': 2090, 'chose': 509, 'information': 1672, 'caution': 448, 'disposable': 790, 'provider': 2550, 'utility': 3391, 'plea': 2457, 'som': 2953, 'kik': 1811, 'skype': 2922, 'pander': 2367, 'sandernicolaysen': 2773, 'kashoo': 1790, 'gaming': 1188, 'youtubeالإعلانات': 3688, 'لل': 3701, 'youtubehbbhhhgh': 3676, 'subscrib': 3081, 'youtubehjalp': 3677, 'youtubeqq': 3684, 'httpwwwgofundmecomhelpmypitbull': 1567, 'pitbull': 2440, 'virucide': 3437, 'tweet': 3332, 'therealterrell': 3216, 'couple': 636, 'exceptions': 977, 'youtubepl': 3683, 'youtubelo': 3680, 'feelz': 1057, 'extinct': 996, 'quotwhite': 2606, 'genocidequot': 1206, 'fricking': 1150, 'beast': 262, 'anywon': 158, 'herd': 1366, 'rollin': 2748, 'woke': 3582, 'buggti': 403, 'nuketown': 2282, 'quick': 2572, 'scoping': 2795, 'training': 3288, 'faze': 1045, 'adoult': 51, 'freind': 1144, 'sang': 2774, 'freinds': 1145, 'solve': 2952, 'partydrunk': 2377, 'httpsplaygooglecomstoreappsdetailsidvnibitapplockeramphlen': 1469, 'youtubeit': 3678, 'beatboxing': 264, 'ummm': 3343, 'sup': 3113, 'gus': 1299, 'jaylan': 1746, 'wanted': 3472, 'yetbut': 3648, 'youtubejjiwajwkajajqjaubkm': 3679, 'nigger': 2245, 'fools': 1113, 'pile': 2435, 'hmm': 1396, 'pie': 2432, 'hahaa': 1311, 'tightttt': 3252, 'aint': 82, 'demo': 741, 'manquot': 2030, 'slappers': 2924, 'slapper': 2923, 'banger': 246, 'below': 288, 'peep': 2400, 'httpssoundcloudcomroccsteadywaveemojiprodbynippylongbottomcyberpunk': 1478, 'niggas': 2244, 'quotcereal': 2578, 'knocks': 1825, 'babyquot': 237, 'quotswagquot': 2600, 'tuto': 3328, 'lights': 1898, 'paypal': 2391, 'doh': 807, 'flixter': 1099, 'nossnevs': 2269, 'nezo': 2236, 'ed': 877, 'likeampshare': 1901, 'weekly': 3518, 'thanksjoyce': 3198, 'promos': 2539, 'bady': 240, 'yust': 3693, 'computerbased': 586, 'quoton': 2596, 'incquot': 1664, 'httpwwwprizerebelcomindexphpr': 1578, 'ooooo': 2330, 'shuffllllllllllllllllllllllinnnnn': 2882, 'looooooooove': 1955, 'loon': 1952, 'louis': 1968, 'saving': 2780}\n"
          ],
          "name": "stdout"
        }
      ]
    },
    {
      "cell_type": "markdown",
      "metadata": {
        "id": "HQw-P4G7z0e8",
        "colab_type": "text"
      },
      "source": [
        "## **Trainning on the SVM classifier**"
      ]
    },
    {
      "cell_type": "code",
      "metadata": {
        "id": "2-e_KuT0yzW7",
        "colab_type": "code",
        "outputId": "3bc2f04f-ea1e-49a6-933a-fec5e8b46a92",
        "colab": {
          "base_uri": "https://localhost:8080/",
          "height": 85
        }
      },
      "source": [
        "SVM = svm.SVC(C=1.0, kernel='linear', verbose=True)\n",
        "SVM.fit(Train_X_Tfidf,Train_Y)"
      ],
      "execution_count": 26,
      "outputs": [
        {
          "output_type": "stream",
          "text": [
            "[LibSVM]"
          ],
          "name": "stdout"
        },
        {
          "output_type": "execute_result",
          "data": {
            "text/plain": [
              "SVC(C=1.0, break_ties=False, cache_size=200, class_weight=None, coef0=0.0,\n",
              "    decision_function_shape='ovr', degree=3, gamma='scale', kernel='linear',\n",
              "    max_iter=-1, probability=False, random_state=None, shrinking=True,\n",
              "    tol=0.001, verbose=True)"
            ]
          },
          "metadata": {
            "tags": []
          },
          "execution_count": 26
        }
      ]
    },
    {
      "cell_type": "markdown",
      "metadata": {
        "id": "oeab3kwjzwHe",
        "colab_type": "text"
      },
      "source": [
        "**Predict and evaluate the SVM classifier**"
      ]
    },
    {
      "cell_type": "code",
      "metadata": {
        "id": "uNH9Szb41Lxi",
        "colab_type": "code",
        "outputId": "f50ce473-083d-48ef-dc4e-17d6dd28497e",
        "colab": {
          "base_uri": "https://localhost:8080/",
          "height": 279
        }
      },
      "source": [
        "predictions_SVM=SVM.predict(Test_X_Tfidf)\n",
        "fig, ax = plot_confusion_matrix(conf_mat=confusion_matrix(Test_Y,predictions_SVM))\n",
        "plt.show()"
      ],
      "execution_count": 27,
      "outputs": [
        {
          "output_type": "display_data",
          "data": {
            "image/png": "[encoded data removed]",
            "text/plain": [
              "<Figure size 432x288 with 1 Axes>"
            ]
          },
          "metadata": {
            "tags": []
          }
        }
      ]
    },
    {
      "cell_type": "code",
      "metadata": {
        "id": "-e2OwAKO9eJF",
        "colab_type": "code",
        "outputId": "ceff31c2-222f-4c61-9728-4bdf37bb92e1",
        "colab": {
          "base_uri": "https://localhost:8080/",
          "height": 170
        }
      },
      "source": [
        "print(classification_report(Test_Y,predictions_SVM))"
      ],
      "execution_count": 28,
      "outputs": [
        {
          "output_type": "stream",
          "text": [
            "              precision    recall  f1-score   support\n",
            "\n",
            "           0       0.86      0.97      0.91       269\n",
            "           1       0.98      0.87      0.92       318\n",
            "\n",
            "    accuracy                           0.92       587\n",
            "   macro avg       0.92      0.92      0.92       587\n",
            "weighted avg       0.92      0.92      0.92       587\n",
            "\n"
          ],
          "name": "stdout"
        }
      ]
    },
    {
      "cell_type": "markdown",
      "metadata": {
        "id": "3RGVdoWO0MTd",
        "colab_type": "text"
      },
      "source": [
        "## **Trainning on the Naive Bayes Classifier**"
      ]
    },
    {
      "cell_type": "code",
      "metadata": {
        "id": "9xSLTar-z-k6",
        "colab_type": "code",
        "colab": {
          "base_uri": "https://localhost:8080/",
          "height": 34
        },
        "outputId": "00678b3f-ee26-44f5-e430-c3f8bc466b7a"
      },
      "source": [
        "Naive = naive_bayes.MultinomialNB()\n",
        "Naive.fit(Train_X_Tfidf,Train_Y)"
      ],
      "execution_count": 29,
      "outputs": [
        {
          "output_type": "execute_result",
          "data": {
            "text/plain": [
              "MultinomialNB(alpha=1.0, class_prior=None, fit_prior=True)"
            ]
          },
          "metadata": {
            "tags": []
          },
          "execution_count": 29
        }
      ]
    },
    {
      "cell_type": "markdown",
      "metadata": {
        "id": "_8QLv_Zz0P9j",
        "colab_type": "text"
      },
      "source": [
        "**Predict and evaluate the Naive Bayes Classifier**"
      ]
    },
    {
      "cell_type": "code",
      "metadata": {
        "id": "mPbuOVdN-Oe-",
        "colab_type": "code",
        "outputId": "f7c5a50c-80ed-4419-ae08-51503b5aa3fb",
        "colab": {
          "base_uri": "https://localhost:8080/",
          "height": 279
        }
      },
      "source": [
        "predictions_NB=Naive.predict(Test_X_Tfidf)\n",
        "fig, ax = plot_confusion_matrix(conf_mat=confusion_matrix(Test_Y,predictions_NB))\n",
        "plt.show()"
      ],
      "execution_count": 30,
      "outputs": [
        {
          "output_type": "display_data",
          "data": {
            "image/png": "[encoded data removed]",
            "text/plain": [
              "<Figure size 432x288 with 1 Axes>"
            ]
          },
          "metadata": {
            "tags": []
          }
        }
      ]
    },
    {
      "cell_type": "code",
      "metadata": {
        "id": "9k22ldOj0CAa",
        "colab_type": "code",
        "outputId": "85b40bdf-efbf-4646-998a-4c726dd0783c",
        "colab": {
          "base_uri": "https://localhost:8080/",
          "height": 170
        }
      },
      "source": [
        "print(classification_report(Test_Y,predictions_NB))"
      ],
      "execution_count": 31,
      "outputs": [
        {
          "output_type": "stream",
          "text": [
            "              precision    recall  f1-score   support\n",
            "\n",
            "           0       0.87      0.91      0.89       269\n",
            "           1       0.92      0.88      0.90       318\n",
            "\n",
            "    accuracy                           0.89       587\n",
            "   macro avg       0.89      0.89      0.89       587\n",
            "weighted avg       0.89      0.89      0.89       587\n",
            "\n"
          ],
          "name": "stdout"
        }
      ]
    },
    {
      "cell_type": "markdown",
      "metadata": {
        "id": "qoyU4kK8XbIS",
        "colab_type": "text"
      },
      "source": [
        "# ***Save model***"
      ]
    },
    {
      "cell_type": "code",
      "metadata": {
        "id": "ONzqnF8tXpXZ",
        "colab_type": "code",
        "outputId": "fcfad7b2-99f4-4772-bd82-75074227fbd1",
        "colab": {
          "base_uri": "https://localhost:8080/",
          "height": 34
        }
      },
      "source": [
        "joblib.dump(Tfidf_vect, '/content/model/tfidf.pkl')\n",
        "joblib.dump(tokenizer, '/content/model/tokenizer_LSTM.pkl')\n",
        "joblib.dump(model, '/content/model/LSTM_model.pkl')\n",
        "joblib.dump(SVM, '/content/model/SVM_model.pkl')\n",
        "joblib.dump(Naive, '/content/model/NB_model.pkl')"
      ],
      "execution_count": 32,
      "outputs": [
        {
          "output_type": "execute_result",
          "data": {
            "text/plain": [
              "['/content/model/NB_model.pkl']"
            ]
          },
          "metadata": {
            "tags": []
          },
          "execution_count": 32
        }
      ]
    },
    {
      "cell_type": "markdown",
      "metadata": {
        "id": "cs1wBCBUFYFu",
        "colab_type": "text"
      },
      "source": [
        "# ***Enter comment and check***"
      ]
    },
    {
      "cell_type": "markdown",
      "metadata": {
        "id": "g78HI7WyOQ4k",
        "colab_type": "text"
      },
      "source": [
        "## *utils*"
      ]
    },
    {
      "cell_type": "code",
      "metadata": {
        "id": "kT94GCJ2Ur30",
        "colab_type": "code",
        "colab": {}
      },
      "source": [
        "from nltk.corpus import wordnet\n",
        "from nltk.stem import WordNetLemmatizer\n",
        "import re\n",
        "import string\n",
        "from string import digits, punctuation\n",
        "\n",
        "def word_lenmatizer(text):\n",
        "    cleanr = re.compile('<.*?>')\n",
        "    text=re.sub(cleanr, ' ', text)\n",
        "    clean = text.translate(str.maketrans('', '', punctuation))\n",
        "    clean = clean.translate(str.maketrans('', '', digits))\n",
        "    text_tokenizer=clean.split()\n",
        "    # Init Lemmatizer\n",
        "    lemmatizer = WordNetLemmatizer()\n",
        "    hl_lemmatized = []\n",
        "    lemm = [lemmatizer.lemmatize(w, get_wordnet_pos(w)) for w in text_tokenizer]\n",
        "    hl_lemmatized.append(lemm)\n",
        "    return hl_lemmatized\n",
        "\n",
        "def LSTM_predict(text,model,tokenizer):\n",
        "  w_lenmatizer=word_lenmatizer(text)\n",
        "  max_token = 14\n",
        "  sequences = tokenizer.texts_to_sequences(w_lenmatizer)\n",
        "  X = pad_sequences(sequences, maxlen=max_token)\n",
        "  if np.around(model.predict(X)[0])==1:\n",
        "    print(text)\n",
        "    print(\"=============> SPAM\\n\")\n",
        "  else:\n",
        "    print(text)\n",
        "    print(\"=============> HAM\\n\")\n",
        "\n",
        "def predict(text,model,tfidf_vector):\n",
        "  w_lenmatizer=word_lenmatizer(text)\n",
        "  w_lenmatizer = [\" \".join(x) for x in w_lenmatizer]\n",
        "  X_Tfidf = tfidf_vector.transform(w_lenmatizer)\n",
        "  if model.predict(X_Tfidf)[0]==1:\n",
        "    print(text)\n",
        "    print(\"=============> SPAM\\n\")\n",
        "  else:\n",
        "    print(text)\n",
        "    print(\"=============> HAM\\n\")\n",
        "\n"
      ],
      "execution_count": 0,
      "outputs": []
    },
    {
      "cell_type": "markdown",
      "metadata": {
        "id": "zzUTRbrYOXMC",
        "colab_type": "text"
      },
      "source": [
        "## Predict"
      ]
    },
    {
      "cell_type": "markdown",
      "metadata": {
        "id": "5srnrDC4Glpe",
        "colab_type": "text"
      },
      "source": [
        "Load model "
      ]
    },
    {
      "cell_type": "code",
      "metadata": {
        "id": "dj3Y7vDWGs_8",
        "colab_type": "code",
        "colab": {
          "base_uri": "https://localhost:8080/",
          "height": 71
        },
        "outputId": "f2c37027-5210-404f-c338-e1f5f211d1d2"
      },
      "source": [
        "model_LSTM=joblib.load('/content/model/LSTM_model.pkl')\n",
        "tokenizer_LSTM=joblib.load('/content/model/tokenizer_LSTM.pkl')\n",
        "SVM_model=joblib.load('/content/model/SVM_model.pkl')\n",
        "NB_model=joblib.load('/content/model/NB_model.pkl')\n",
        "tfidf_vec=joblib.load('/content/model/tfidf.pkl')\n"
      ],
      "execution_count": 33,
      "outputs": [
        {
          "output_type": "stream",
          "text": [
            "/usr/local/lib/python3.6/dist-packages/tensorflow/python/framework/indexed_slices.py:434: UserWarning: Converting sparse IndexedSlices to a dense Tensor of unknown shape. This may consume a large amount of memory.\n",
            "  \"Converting sparse IndexedSlices to a dense Tensor of unknown shape. \"\n"
          ],
          "name": "stderr"
        }
      ]
    },
    {
      "cell_type": "markdown",
      "metadata": {
        "id": "nR7m-FhFhB8H",
        "colab_type": "text"
      },
      "source": [
        "Using LSTM model to predict"
      ]
    },
    {
      "cell_type": "code",
      "metadata": {
        "id": "k6eBwP2kYvpl",
        "colab_type": "code",
        "outputId": "a63af64a-3525-428d-e6fa-afdc205e91f6",
        "colab": {
          "base_uri": "https://localhost:8080/",
          "height": 272
        }
      },
      "source": [
        "cmt='Please subcribe my channel'\n",
        "LSTM_predict(cmt,model_LSTM,tokenizer_LSTM)\n",
        "\n",
        "cmt1=\"Hand Up 🤘🏽\"\n",
        "LSTM_predict(cmt1,model_LSTM,tokenizer_LSTM)\n",
        "\n",
        "\n",
        "cmt2='I just remembered the song because of Alvin and The Chipmunks 😂'\n",
        "LSTM_predict(cmt2,model_LSTM,tokenizer_LSTM)\n",
        "\n",
        "cmt3=\"Click me! to see beautiful girl\"\n",
        "LSTM_predict(cmt3,model_LSTM,tokenizer_LSTM)\n",
        "\n",
        "cmt4=\"Please give me a like on Facebook\"\n",
        "LSTM_predict(cmt4,model_LSTM,tokenizer_LSTM)"
      ],
      "execution_count": 36,
      "outputs": [
        {
          "output_type": "stream",
          "text": [
            "Please subcribe my channel\n",
            "=============> SPAM\n",
            "\n",
            "Hand Up 🤘🏽\n",
            "=============> SPAM\n",
            "\n",
            "I just remembered the song because of Alvin and The Chipmunks 😂\n",
            "=============> HAM\n",
            "\n",
            "Click me! to see beautiful girl\n",
            "=============> SPAM\n",
            "\n",
            "Please give me a like on Facebook\n",
            "=============> SPAM\n",
            "\n"
          ],
          "name": "stdout"
        }
      ]
    },
    {
      "cell_type": "markdown",
      "metadata": {
        "id": "ZtvPXsE4Gkk8",
        "colab_type": "text"
      },
      "source": [
        "Using SVM clasifier"
      ]
    },
    {
      "cell_type": "code",
      "metadata": {
        "id": "le5mHuIZGuqN",
        "colab_type": "code",
        "colab": {}
      },
      "source": [
        "cmt='Follow me on instagram, remember to like and subcribe'\n",
        "predict(cmt,SVM_model,tfidf_vec)\n",
        "\n",
        "cmt1='D O Y O U G U Y S R E M E M B E R T H E  T I M E W H E N Big PP used to be \"very nice\"?'\n",
        "predict(cmt,SVM_model,tfidf_vec)\n",
        "\n",
        "cmt2='This is probably the best song that represents the world cup ever.'\n",
        "predict(cmt2,SVM_model,tfidf_vec)\n",
        "\n",
        "cmt3='You want to earn more money? Click here 👉: bit.ly/earn_money.com'\n",
        "predict(cmt3,SVM_model,tfidf_vec)"
      ],
      "execution_count": 0,
      "outputs": []
    },
    {
      "cell_type": "markdown",
      "metadata": {
        "id": "HIZ2FvNdGy6t",
        "colab_type": "text"
      },
      "source": [
        "Using NB clasifier\n"
      ]
    },
    {
      "cell_type": "code",
      "metadata": {
        "id": "j8gRsJ85G2Gl",
        "colab_type": "code",
        "colab": {}
      },
      "source": [
        "cmt='Such a shame that this song didnt reach 1B in 10 years.'\n",
        "predict(cmt,NB_model,tfidf_vec)\n",
        "\n",
        "cmt1=\"Like for me <3\"\n",
        "predict(cmt1,NB_model,tfidf_vec)\n",
        "\n",
        "cmt2='LIKE THIS COMMENT IF YOU ARE WATCHING.'\n",
        "predict(cmt2,NB_model,tfidf_vec)"
      ],
      "execution_count": 0,
      "outputs": []
    },
    {
      "cell_type": "markdown",
      "metadata": {
        "id": "KV2DK26FKfWq",
        "colab_type": "text"
      },
      "source": [
        ""
      ]
    }
  ]
}